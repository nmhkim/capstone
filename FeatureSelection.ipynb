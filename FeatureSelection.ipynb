{
 "cells": [
  {
   "cell_type": "markdown",
   "id": "ac82bec1",
   "metadata": {},
   "source": [
    "# UCLA Master in Quantitative Economics \n",
    "## Replication File for <i>Re-Estimating the Effect of Skill Specificity on Immigration Attitudes: A Double Machine Learning Approach<i>\n",
    "### Author: Nathan Kim \n",
    "### Faculty Advisor: Denis Chetverikov"
   ]
  },
  {
   "cell_type": "code",
   "execution_count": 1,
   "id": "c384d3ed",
   "metadata": {},
   "outputs": [],
   "source": [
    "# Standard modules \n",
    "import numpy as np \n",
    "import pandas as pd \n",
    "import matplotlib.pyplot as plt "
   ]
  },
  {
   "cell_type": "code",
   "execution_count": 2,
   "id": "722b633d",
   "metadata": {},
   "outputs": [],
   "source": [
    "# Utilities \n",
    "from sklearn.model_selection import GridSearchCV, StratifiedKFold, KFold\n",
    "from sklearn.preprocessing import StandardScaler, MinMaxScaler, PolynomialFeatures "
   ]
  },
  {
   "cell_type": "code",
   "execution_count": 3,
   "id": "939d5f7c",
   "metadata": {},
   "outputs": [],
   "source": [
    "# Linear, tree-based, and ensemble models \n",
    "from sklearn.linear_model import LogisticRegression, Lasso\n",
    "from sklearn.tree import DecisionTreeClassifier, DecisionTreeRegressor \n",
    "from sklearn.ensemble import AdaBoostClassifier, AdaBoostRegressor\n",
    "from sklearn.ensemble import RandomForestClassifier, RandomForestRegressor\n",
    "from sklearn.ensemble import GradientBoostingClassifier, GradientBoostingRegressor"
   ]
  },
  {
   "cell_type": "code",
   "execution_count": 4,
   "id": "0f7dd427",
   "metadata": {},
   "outputs": [],
   "source": [
    "# dmlc XGBoost \n",
    "import xgboost as xgb"
   ]
  },
  {
   "cell_type": "code",
   "execution_count": 5,
   "id": "948255a3",
   "metadata": {},
   "outputs": [],
   "source": [
    "# DMLDiD \n",
    "from DMLDiD import DMLDiD, DMLDiD_TF"
   ]
  },
  {
   "cell_type": "code",
   "execution_count": 6,
   "id": "18c078c4",
   "metadata": {},
   "outputs": [],
   "source": [
    "# LASSO l1 selection rule \n",
    "from bcch_rule import bcch_rule"
   ]
  },
  {
   "cell_type": "markdown",
   "id": "7f0294f4",
   "metadata": {},
   "source": [
    "# Data import & cleaning "
   ]
  },
  {
   "cell_type": "code",
   "execution_count": 7,
   "id": "6917dda2",
   "metadata": {},
   "outputs": [],
   "source": [
    "# Import data\n",
    "df = pd.read_stata('gsp_data_final.dta')"
   ]
  },
  {
   "cell_type": "code",
   "execution_count": 8,
   "id": "2961e964",
   "metadata": {},
   "outputs": [],
   "source": [
    "# Subsetting data \n",
    "df = df[['syear', 'pid', 'concern_rec', 'treated', 'unemployed2', 'income', 'age', 'educyears', 'skillsp', 'our', \n",
    "         'tenure2', 'transition', 'percentimmigr', 'manualwork', 'gender', 'temporary', 'dv', 'churchatt', 'pgsbil']]"
   ]
  },
  {
   "cell_type": "code",
   "execution_count": 9,
   "id": "d25ac3be",
   "metadata": {},
   "outputs": [],
   "source": [
    "# Sort by surveyee ID and survey year \n",
    "df = df.sort_values(by=['pid', 'syear'])"
   ]
  },
  {
   "cell_type": "code",
   "execution_count": 10,
   "id": "69f369cb",
   "metadata": {},
   "outputs": [
    {
     "data": {
      "text/html": [
       "<div>\n",
       "<style scoped>\n",
       "    .dataframe tbody tr th:only-of-type {\n",
       "        vertical-align: middle;\n",
       "    }\n",
       "\n",
       "    .dataframe tbody tr th {\n",
       "        vertical-align: top;\n",
       "    }\n",
       "\n",
       "    .dataframe thead th {\n",
       "        text-align: right;\n",
       "    }\n",
       "</style>\n",
       "<table border=\"1\" class=\"dataframe\">\n",
       "  <thead>\n",
       "    <tr style=\"text-align: right;\">\n",
       "      <th></th>\n",
       "      <th>syear</th>\n",
       "      <th>pid</th>\n",
       "      <th>concern_rec</th>\n",
       "      <th>treated</th>\n",
       "      <th>unemployed2</th>\n",
       "      <th>income</th>\n",
       "      <th>age</th>\n",
       "      <th>educyears</th>\n",
       "      <th>skillsp</th>\n",
       "      <th>our</th>\n",
       "      <th>tenure2</th>\n",
       "      <th>transition</th>\n",
       "      <th>percentimmigr</th>\n",
       "      <th>manualwork</th>\n",
       "      <th>gender</th>\n",
       "      <th>temporary</th>\n",
       "      <th>dv</th>\n",
       "      <th>churchatt</th>\n",
       "      <th>pgsbil</th>\n",
       "    </tr>\n",
       "  </thead>\n",
       "  <tbody>\n",
       "    <tr>\n",
       "      <th>0</th>\n",
       "      <td>1999</td>\n",
       "      <td>201</td>\n",
       "      <td>2.0</td>\n",
       "      <td>0.0</td>\n",
       "      <td>0.0</td>\n",
       "      <td>NaN</td>\n",
       "      <td>73.0</td>\n",
       "      <td>11.0</td>\n",
       "      <td>NaN</td>\n",
       "      <td>NaN</td>\n",
       "      <td>10.770837</td>\n",
       "      <td>NaN</td>\n",
       "      <td>6.917376</td>\n",
       "      <td>0.0</td>\n",
       "      <td>2.0</td>\n",
       "      <td>0.0</td>\n",
       "      <td>0.0</td>\n",
       "      <td>2.0</td>\n",
       "      <td>1</td>\n",
       "    </tr>\n",
       "    <tr>\n",
       "      <th>1</th>\n",
       "      <td>2000</td>\n",
       "      <td>201</td>\n",
       "      <td>2.0</td>\n",
       "      <td>0.0</td>\n",
       "      <td>0.0</td>\n",
       "      <td>NaN</td>\n",
       "      <td>74.0</td>\n",
       "      <td>10.5</td>\n",
       "      <td>NaN</td>\n",
       "      <td>NaN</td>\n",
       "      <td>3.410256</td>\n",
       "      <td>NaN</td>\n",
       "      <td>82.347237</td>\n",
       "      <td>0.0</td>\n",
       "      <td>2.0</td>\n",
       "      <td>0.0</td>\n",
       "      <td>0.0</td>\n",
       "      <td>2.0</td>\n",
       "      <td>1</td>\n",
       "    </tr>\n",
       "    <tr>\n",
       "      <th>2</th>\n",
       "      <td>2001</td>\n",
       "      <td>201</td>\n",
       "      <td>NaN</td>\n",
       "      <td>0.0</td>\n",
       "      <td>0.0</td>\n",
       "      <td>NaN</td>\n",
       "      <td>75.0</td>\n",
       "      <td>10.5</td>\n",
       "      <td>NaN</td>\n",
       "      <td>NaN</td>\n",
       "      <td>11.610270</td>\n",
       "      <td>NaN</td>\n",
       "      <td>81.313133</td>\n",
       "      <td>0.0</td>\n",
       "      <td>2.0</td>\n",
       "      <td>0.0</td>\n",
       "      <td>NaN</td>\n",
       "      <td>2.0</td>\n",
       "      <td>1</td>\n",
       "    </tr>\n",
       "    <tr>\n",
       "      <th>3</th>\n",
       "      <td>2002</td>\n",
       "      <td>201</td>\n",
       "      <td>1.0</td>\n",
       "      <td>0.0</td>\n",
       "      <td>0.0</td>\n",
       "      <td>NaN</td>\n",
       "      <td>76.0</td>\n",
       "      <td>10.5</td>\n",
       "      <td>NaN</td>\n",
       "      <td>NaN</td>\n",
       "      <td>7.950000</td>\n",
       "      <td>NaN</td>\n",
       "      <td>83.075089</td>\n",
       "      <td>0.0</td>\n",
       "      <td>2.0</td>\n",
       "      <td>0.0</td>\n",
       "      <td>0.0</td>\n",
       "      <td>2.0</td>\n",
       "      <td>1</td>\n",
       "    </tr>\n",
       "    <tr>\n",
       "      <th>4</th>\n",
       "      <td>2003</td>\n",
       "      <td>201</td>\n",
       "      <td>2.0</td>\n",
       "      <td>0.0</td>\n",
       "      <td>0.0</td>\n",
       "      <td>NaN</td>\n",
       "      <td>77.0</td>\n",
       "      <td>10.5</td>\n",
       "      <td>NaN</td>\n",
       "      <td>NaN</td>\n",
       "      <td>12.263576</td>\n",
       "      <td>NaN</td>\n",
       "      <td>80.788483</td>\n",
       "      <td>0.0</td>\n",
       "      <td>2.0</td>\n",
       "      <td>0.0</td>\n",
       "      <td>0.0</td>\n",
       "      <td>2.0</td>\n",
       "      <td>1</td>\n",
       "    </tr>\n",
       "  </tbody>\n",
       "</table>\n",
       "</div>"
      ],
      "text/plain": [
       "   syear  pid  concern_rec  treated  unemployed2  income   age  educyears  \\\n",
       "0   1999  201          2.0      0.0          0.0     NaN  73.0       11.0   \n",
       "1   2000  201          2.0      0.0          0.0     NaN  74.0       10.5   \n",
       "2   2001  201          NaN      0.0          0.0     NaN  75.0       10.5   \n",
       "3   2002  201          1.0      0.0          0.0     NaN  76.0       10.5   \n",
       "4   2003  201          2.0      0.0          0.0     NaN  77.0       10.5   \n",
       "\n",
       "   skillsp  our    tenure2  transition  percentimmigr  manualwork  gender  \\\n",
       "0      NaN  NaN  10.770837         NaN       6.917376         0.0     2.0   \n",
       "1      NaN  NaN   3.410256         NaN      82.347237         0.0     2.0   \n",
       "2      NaN  NaN  11.610270         NaN      81.313133         0.0     2.0   \n",
       "3      NaN  NaN   7.950000         NaN      83.075089         0.0     2.0   \n",
       "4      NaN  NaN  12.263576         NaN      80.788483         0.0     2.0   \n",
       "\n",
       "   temporary   dv  churchatt  pgsbil  \n",
       "0        0.0  0.0        2.0       1  \n",
       "1        0.0  0.0        2.0       1  \n",
       "2        0.0  NaN        2.0       1  \n",
       "3        0.0  0.0        2.0       1  \n",
       "4        0.0  0.0        2.0       1  "
      ]
     },
     "execution_count": 10,
     "metadata": {},
     "output_type": "execute_result"
    }
   ],
   "source": [
    "df.head()"
   ]
  },
  {
   "cell_type": "code",
   "execution_count": 11,
   "id": "f8bf1670",
   "metadata": {},
   "outputs": [
    {
     "data": {
      "text/plain": [
       "syear\n",
       "2000    11849\n",
       "2001     1786\n",
       "2002    11606\n",
       "2003     1362\n",
       "2004    10442\n",
       "2005     1161\n",
       "2006     1772\n",
       "2007     9661\n",
       "2008     1699\n",
       "2009     9692\n",
       "2010     1458\n",
       "2011     9674\n",
       "dtype: int64"
      ]
     },
     "execution_count": 11,
     "metadata": {},
     "output_type": "execute_result"
    }
   ],
   "source": [
    "# Number of observations each year \n",
    "df.dropna().groupby(by='syear').size()"
   ]
  },
  {
   "cell_type": "code",
   "execution_count": 12,
   "id": "5cc9a702",
   "metadata": {},
   "outputs": [],
   "source": [
    "# Dataframe containing only the years 2003, 2004, and 2005 (i.e. treatment period)\n",
    "time_frame = df.loc[(df['syear'] == 2003) | (df['syear'] == 2004) | (df['syear'] == 2005)]"
   ]
  },
  {
   "cell_type": "code",
   "execution_count": 13,
   "id": "cf22241e",
   "metadata": {},
   "outputs": [],
   "source": [
    "# Sort by surveyee ID and survey year \n",
    "time_frame = time_frame.sort_values(by=['pid', 'syear'])"
   ]
  },
  {
   "cell_type": "code",
   "execution_count": 14,
   "id": "3b683bc3",
   "metadata": {},
   "outputs": [
    {
     "data": {
      "text/html": [
       "<div>\n",
       "<style scoped>\n",
       "    .dataframe tbody tr th:only-of-type {\n",
       "        vertical-align: middle;\n",
       "    }\n",
       "\n",
       "    .dataframe tbody tr th {\n",
       "        vertical-align: top;\n",
       "    }\n",
       "\n",
       "    .dataframe thead th {\n",
       "        text-align: right;\n",
       "    }\n",
       "</style>\n",
       "<table border=\"1\" class=\"dataframe\">\n",
       "  <thead>\n",
       "    <tr style=\"text-align: right;\">\n",
       "      <th></th>\n",
       "      <th>syear</th>\n",
       "      <th>pid</th>\n",
       "      <th>concern_rec</th>\n",
       "      <th>treated</th>\n",
       "      <th>unemployed2</th>\n",
       "      <th>income</th>\n",
       "      <th>age</th>\n",
       "      <th>educyears</th>\n",
       "      <th>skillsp</th>\n",
       "      <th>our</th>\n",
       "      <th>tenure2</th>\n",
       "      <th>transition</th>\n",
       "      <th>percentimmigr</th>\n",
       "      <th>manualwork</th>\n",
       "      <th>gender</th>\n",
       "      <th>temporary</th>\n",
       "      <th>dv</th>\n",
       "      <th>churchatt</th>\n",
       "      <th>pgsbil</th>\n",
       "    </tr>\n",
       "  </thead>\n",
       "  <tbody>\n",
       "    <tr>\n",
       "      <th>4</th>\n",
       "      <td>2003</td>\n",
       "      <td>201</td>\n",
       "      <td>2.0</td>\n",
       "      <td>0.0</td>\n",
       "      <td>0.0</td>\n",
       "      <td>NaN</td>\n",
       "      <td>77.0</td>\n",
       "      <td>10.5</td>\n",
       "      <td>NaN</td>\n",
       "      <td>NaN</td>\n",
       "      <td>12.263576</td>\n",
       "      <td>NaN</td>\n",
       "      <td>80.788483</td>\n",
       "      <td>0.0</td>\n",
       "      <td>2.0</td>\n",
       "      <td>0.0</td>\n",
       "      <td>0.0</td>\n",
       "      <td>2.0</td>\n",
       "      <td>1</td>\n",
       "    </tr>\n",
       "    <tr>\n",
       "      <th>5</th>\n",
       "      <td>2004</td>\n",
       "      <td>201</td>\n",
       "      <td>3.0</td>\n",
       "      <td>0.0</td>\n",
       "      <td>0.0</td>\n",
       "      <td>NaN</td>\n",
       "      <td>78.0</td>\n",
       "      <td>10.5</td>\n",
       "      <td>NaN</td>\n",
       "      <td>NaN</td>\n",
       "      <td>9.666667</td>\n",
       "      <td>NaN</td>\n",
       "      <td>84.533333</td>\n",
       "      <td>0.0</td>\n",
       "      <td>2.0</td>\n",
       "      <td>0.0</td>\n",
       "      <td>1.0</td>\n",
       "      <td>2.0</td>\n",
       "      <td>1</td>\n",
       "    </tr>\n",
       "    <tr>\n",
       "      <th>6</th>\n",
       "      <td>2005</td>\n",
       "      <td>201</td>\n",
       "      <td>1.0</td>\n",
       "      <td>0.0</td>\n",
       "      <td>0.0</td>\n",
       "      <td>NaN</td>\n",
       "      <td>79.0</td>\n",
       "      <td>10.5</td>\n",
       "      <td>NaN</td>\n",
       "      <td>NaN</td>\n",
       "      <td>12.523881</td>\n",
       "      <td>NaN</td>\n",
       "      <td>80.142349</td>\n",
       "      <td>0.0</td>\n",
       "      <td>2.0</td>\n",
       "      <td>0.0</td>\n",
       "      <td>0.0</td>\n",
       "      <td>2.0</td>\n",
       "      <td>1</td>\n",
       "    </tr>\n",
       "    <tr>\n",
       "      <th>14</th>\n",
       "      <td>2003</td>\n",
       "      <td>203</td>\n",
       "      <td>2.0</td>\n",
       "      <td>0.0</td>\n",
       "      <td>0.0</td>\n",
       "      <td>4.0</td>\n",
       "      <td>43.0</td>\n",
       "      <td>18.0</td>\n",
       "      <td>NaN</td>\n",
       "      <td>NaN</td>\n",
       "      <td>12.263576</td>\n",
       "      <td>NaN</td>\n",
       "      <td>80.788483</td>\n",
       "      <td>0.0</td>\n",
       "      <td>1.0</td>\n",
       "      <td>0.0</td>\n",
       "      <td>0.0</td>\n",
       "      <td>1.0</td>\n",
       "      <td>4</td>\n",
       "    </tr>\n",
       "    <tr>\n",
       "      <th>15</th>\n",
       "      <td>2004</td>\n",
       "      <td>203</td>\n",
       "      <td>2.0</td>\n",
       "      <td>1.0</td>\n",
       "      <td>1.0</td>\n",
       "      <td>NaN</td>\n",
       "      <td>44.0</td>\n",
       "      <td>18.0</td>\n",
       "      <td>NaN</td>\n",
       "      <td>NaN</td>\n",
       "      <td>9.666667</td>\n",
       "      <td>NaN</td>\n",
       "      <td>84.533333</td>\n",
       "      <td>0.0</td>\n",
       "      <td>1.0</td>\n",
       "      <td>0.0</td>\n",
       "      <td>0.0</td>\n",
       "      <td>2.0</td>\n",
       "      <td>4</td>\n",
       "    </tr>\n",
       "  </tbody>\n",
       "</table>\n",
       "</div>"
      ],
      "text/plain": [
       "    syear  pid  concern_rec  treated  unemployed2  income   age  educyears  \\\n",
       "4    2003  201          2.0      0.0          0.0     NaN  77.0       10.5   \n",
       "5    2004  201          3.0      0.0          0.0     NaN  78.0       10.5   \n",
       "6    2005  201          1.0      0.0          0.0     NaN  79.0       10.5   \n",
       "14   2003  203          2.0      0.0          0.0     4.0  43.0       18.0   \n",
       "15   2004  203          2.0      1.0          1.0     NaN  44.0       18.0   \n",
       "\n",
       "    skillsp  our    tenure2  transition  percentimmigr  manualwork  gender  \\\n",
       "4       NaN  NaN  12.263576         NaN      80.788483         0.0     2.0   \n",
       "5       NaN  NaN   9.666667         NaN      84.533333         0.0     2.0   \n",
       "6       NaN  NaN  12.523881         NaN      80.142349         0.0     2.0   \n",
       "14      NaN  NaN  12.263576         NaN      80.788483         0.0     1.0   \n",
       "15      NaN  NaN   9.666667         NaN      84.533333         0.0     1.0   \n",
       "\n",
       "    temporary   dv  churchatt  pgsbil  \n",
       "4         0.0  0.0        2.0       1  \n",
       "5         0.0  1.0        2.0       1  \n",
       "6         0.0  0.0        2.0       1  \n",
       "14        0.0  0.0        1.0       4  \n",
       "15        0.0  0.0        2.0       4  "
      ]
     },
     "execution_count": 14,
     "metadata": {},
     "output_type": "execute_result"
    }
   ],
   "source": [
    "time_frame.head()"
   ]
  },
  {
   "cell_type": "code",
   "execution_count": 15,
   "id": "9bc6edb2",
   "metadata": {},
   "outputs": [],
   "source": [
    "# Find IDs of surveyees that were unemployed (treated) during 2003-2005 \n",
    "treated_id = list(time_frame.loc[time_frame['unemployed2'] == 1]['pid'].unique())"
   ]
  },
  {
   "cell_type": "code",
   "execution_count": 16,
   "id": "f872320d",
   "metadata": {},
   "outputs": [],
   "source": [
    "# Find IDs of surveyees that were employed all throughout 2003-2005 (control)\n",
    "control_2003 = list(time_frame.loc[(time_frame['unemployed2'] == 0) & (time_frame['syear'] == 2003)]['pid'].unique())\n",
    "control_2004 = list(time_frame.loc[(time_frame['unemployed2'] == 0) & (time_frame['syear'] == 2004)]['pid'].unique())\n",
    "control_2005 = list(time_frame.loc[(time_frame['unemployed2'] == 0) & (time_frame['syear'] == 2005)]['pid'].unique())"
   ]
  },
  {
   "cell_type": "code",
   "execution_count": 17,
   "id": "591a4218",
   "metadata": {},
   "outputs": [],
   "source": [
    "control_id = list(set(control_2003) & set(control_2004) & set(control_2005))"
   ]
  },
  {
   "cell_type": "code",
   "execution_count": 18,
   "id": "94e59eaf",
   "metadata": {},
   "outputs": [],
   "source": [
    "# All IDs including both treated and control groups\n",
    "relevant_id = treated_id + control_id"
   ]
  },
  {
   "cell_type": "code",
   "execution_count": 19,
   "id": "1b7ab8d2",
   "metadata": {
    "scrolled": true
   },
   "outputs": [],
   "source": [
    "# 1 == male, 2 == female \n",
    "# Replace 2 with 0 to create 'male' dummy variable \n",
    "df['gender'] = df['gender'].replace(2, 0)"
   ]
  },
  {
   "cell_type": "code",
   "execution_count": 20,
   "id": "b5f15517",
   "metadata": {},
   "outputs": [],
   "source": [
    "# 1 == yes, 2 == no\n",
    "# Replace 2 with 0 to create 'church attendance' dummy variable \n",
    "df['churchatt'] = df['churchatt'].replace(2, 0)"
   ]
  },
  {
   "cell_type": "code",
   "execution_count": 21,
   "id": "c85ddf8b",
   "metadata": {},
   "outputs": [],
   "source": [
    "# Type of schooling \n",
    "df['pgsbil'] = df['pgsbil'].replace(-1, np.nan)"
   ]
  },
  {
   "cell_type": "code",
   "execution_count": 22,
   "id": "54ba808f",
   "metadata": {},
   "outputs": [],
   "source": [
    "stype_dummies = pd.get_dummies(df['pgsbil'])"
   ]
  },
  {
   "cell_type": "code",
   "execution_count": 23,
   "id": "ca75c0f9",
   "metadata": {},
   "outputs": [
    {
     "data": {
      "text/html": [
       "<div>\n",
       "<style scoped>\n",
       "    .dataframe tbody tr th:only-of-type {\n",
       "        vertical-align: middle;\n",
       "    }\n",
       "\n",
       "    .dataframe tbody tr th {\n",
       "        vertical-align: top;\n",
       "    }\n",
       "\n",
       "    .dataframe thead th {\n",
       "        text-align: right;\n",
       "    }\n",
       "</style>\n",
       "<table border=\"1\" class=\"dataframe\">\n",
       "  <thead>\n",
       "    <tr style=\"text-align: right;\">\n",
       "      <th></th>\n",
       "      <th>1.0</th>\n",
       "      <th>2.0</th>\n",
       "      <th>3.0</th>\n",
       "      <th>4.0</th>\n",
       "      <th>5.0</th>\n",
       "      <th>6.0</th>\n",
       "      <th>7.0</th>\n",
       "    </tr>\n",
       "  </thead>\n",
       "  <tbody>\n",
       "    <tr>\n",
       "      <th>0</th>\n",
       "      <td>1</td>\n",
       "      <td>0</td>\n",
       "      <td>0</td>\n",
       "      <td>0</td>\n",
       "      <td>0</td>\n",
       "      <td>0</td>\n",
       "      <td>0</td>\n",
       "    </tr>\n",
       "    <tr>\n",
       "      <th>1</th>\n",
       "      <td>1</td>\n",
       "      <td>0</td>\n",
       "      <td>0</td>\n",
       "      <td>0</td>\n",
       "      <td>0</td>\n",
       "      <td>0</td>\n",
       "      <td>0</td>\n",
       "    </tr>\n",
       "    <tr>\n",
       "      <th>2</th>\n",
       "      <td>1</td>\n",
       "      <td>0</td>\n",
       "      <td>0</td>\n",
       "      <td>0</td>\n",
       "      <td>0</td>\n",
       "      <td>0</td>\n",
       "      <td>0</td>\n",
       "    </tr>\n",
       "    <tr>\n",
       "      <th>3</th>\n",
       "      <td>1</td>\n",
       "      <td>0</td>\n",
       "      <td>0</td>\n",
       "      <td>0</td>\n",
       "      <td>0</td>\n",
       "      <td>0</td>\n",
       "      <td>0</td>\n",
       "    </tr>\n",
       "    <tr>\n",
       "      <th>4</th>\n",
       "      <td>1</td>\n",
       "      <td>0</td>\n",
       "      <td>0</td>\n",
       "      <td>0</td>\n",
       "      <td>0</td>\n",
       "      <td>0</td>\n",
       "      <td>0</td>\n",
       "    </tr>\n",
       "  </tbody>\n",
       "</table>\n",
       "</div>"
      ],
      "text/plain": [
       "   1.0  2.0  3.0  4.0  5.0  6.0  7.0\n",
       "0    1    0    0    0    0    0    0\n",
       "1    1    0    0    0    0    0    0\n",
       "2    1    0    0    0    0    0    0\n",
       "3    1    0    0    0    0    0    0\n",
       "4    1    0    0    0    0    0    0"
      ]
     },
     "execution_count": 23,
     "metadata": {},
     "output_type": "execute_result"
    }
   ],
   "source": [
    "stype_dummies.head()"
   ]
  },
  {
   "cell_type": "code",
   "execution_count": 24,
   "id": "fc4bfdf6",
   "metadata": {},
   "outputs": [],
   "source": [
    "stype_dummies = stype_dummies.rename(columns = {1.0 : 'stype1', 2.0 : 'stype2', 3.0 : 'stype3', 4.0 : 'stype4', \n",
    "                                      5.0 : 'stype5', 6.0 : 'stype6', 7.0 : 'stype7' })"
   ]
  },
  {
   "cell_type": "code",
   "execution_count": 25,
   "id": "890d0f5b",
   "metadata": {},
   "outputs": [],
   "source": [
    "df = pd.concat([df, stype_dummies], axis=1)"
   ]
  },
  {
   "cell_type": "code",
   "execution_count": 26,
   "id": "4dc7f80c",
   "metadata": {},
   "outputs": [],
   "source": [
    "df = df.drop('pgsbil', axis=1)"
   ]
  },
  {
   "cell_type": "code",
   "execution_count": 27,
   "id": "acbb8dfb",
   "metadata": {},
   "outputs": [],
   "source": [
    "# Slice dataframe with years 2002 and 2011\n",
    "\n",
    "# Before treatment = 2002 \n",
    "# After treatment = 2011\n",
    "\n",
    "df_2002 = df.loc[df['syear'] == 2002].dropna()\n",
    "df_2002 = df_2002.loc[df_2002['pid'].isin(relevant_id)]\n",
    "\n",
    "df_2011 = df.loc[df['syear'] == 2011].dropna()\n",
    "df_2011 = df_2011.loc[df_2011['pid'].isin(relevant_id)]"
   ]
  },
  {
   "cell_type": "code",
   "execution_count": 28,
   "id": "68cb5a89",
   "metadata": {},
   "outputs": [],
   "source": [
    "# Each year does not have the same number of surveyees/same surveyee IDs  \n",
    "syear_id = list(df_2002.loc[df_2002['pid'].isin(df_2011['pid'])]['pid'])"
   ]
  },
  {
   "cell_type": "code",
   "execution_count": 29,
   "id": "cdbcec69",
   "metadata": {},
   "outputs": [],
   "source": [
    "df = df.loc[(df['pid'].isin(syear_id)) & ((df['syear'] == 2002) | (df['syear'] == 2011))].reset_index(drop=True)"
   ]
  },
  {
   "cell_type": "code",
   "execution_count": 30,
   "id": "fc0bf22d",
   "metadata": {},
   "outputs": [],
   "source": [
    "df['treated'] = 0 \n",
    "df.loc[df['pid'].isin(treated_id), 'treated'] = 1"
   ]
  },
  {
   "cell_type": "code",
   "execution_count": 31,
   "id": "c420f564",
   "metadata": {},
   "outputs": [
    {
     "data": {
      "text/html": [
       "<div>\n",
       "<style scoped>\n",
       "    .dataframe tbody tr th:only-of-type {\n",
       "        vertical-align: middle;\n",
       "    }\n",
       "\n",
       "    .dataframe tbody tr th {\n",
       "        vertical-align: top;\n",
       "    }\n",
       "\n",
       "    .dataframe thead th {\n",
       "        text-align: right;\n",
       "    }\n",
       "</style>\n",
       "<table border=\"1\" class=\"dataframe\">\n",
       "  <thead>\n",
       "    <tr style=\"text-align: right;\">\n",
       "      <th></th>\n",
       "      <th>syear</th>\n",
       "      <th>pid</th>\n",
       "      <th>concern_rec</th>\n",
       "      <th>treated</th>\n",
       "      <th>unemployed2</th>\n",
       "      <th>income</th>\n",
       "      <th>age</th>\n",
       "      <th>educyears</th>\n",
       "      <th>skillsp</th>\n",
       "      <th>our</th>\n",
       "      <th>...</th>\n",
       "      <th>temporary</th>\n",
       "      <th>dv</th>\n",
       "      <th>churchatt</th>\n",
       "      <th>stype1</th>\n",
       "      <th>stype2</th>\n",
       "      <th>stype3</th>\n",
       "      <th>stype4</th>\n",
       "      <th>stype5</th>\n",
       "      <th>stype6</th>\n",
       "      <th>stype7</th>\n",
       "    </tr>\n",
       "  </thead>\n",
       "  <tbody>\n",
       "    <tr>\n",
       "      <th>0</th>\n",
       "      <td>2002</td>\n",
       "      <td>901</td>\n",
       "      <td>2.0</td>\n",
       "      <td>0</td>\n",
       "      <td>0.0</td>\n",
       "      <td>2.0</td>\n",
       "      <td>51.0</td>\n",
       "      <td>10.5</td>\n",
       "      <td>0.617639</td>\n",
       "      <td>9.205261</td>\n",
       "      <td>...</td>\n",
       "      <td>0.0</td>\n",
       "      <td>0.0</td>\n",
       "      <td>1.0</td>\n",
       "      <td>1</td>\n",
       "      <td>0</td>\n",
       "      <td>0</td>\n",
       "      <td>0</td>\n",
       "      <td>0</td>\n",
       "      <td>0</td>\n",
       "      <td>0</td>\n",
       "    </tr>\n",
       "    <tr>\n",
       "      <th>1</th>\n",
       "      <td>2011</td>\n",
       "      <td>901</td>\n",
       "      <td>2.0</td>\n",
       "      <td>0</td>\n",
       "      <td>0.0</td>\n",
       "      <td>3.0</td>\n",
       "      <td>60.0</td>\n",
       "      <td>10.5</td>\n",
       "      <td>0.490324</td>\n",
       "      <td>8.017141</td>\n",
       "      <td>...</td>\n",
       "      <td>0.0</td>\n",
       "      <td>0.0</td>\n",
       "      <td>1.0</td>\n",
       "      <td>1</td>\n",
       "      <td>0</td>\n",
       "      <td>0</td>\n",
       "      <td>0</td>\n",
       "      <td>0</td>\n",
       "      <td>0</td>\n",
       "      <td>0</td>\n",
       "    </tr>\n",
       "    <tr>\n",
       "      <th>2</th>\n",
       "      <td>2002</td>\n",
       "      <td>1501</td>\n",
       "      <td>1.0</td>\n",
       "      <td>0</td>\n",
       "      <td>0.0</td>\n",
       "      <td>3.0</td>\n",
       "      <td>44.0</td>\n",
       "      <td>18.0</td>\n",
       "      <td>0.719778</td>\n",
       "      <td>3.658580</td>\n",
       "      <td>...</td>\n",
       "      <td>0.0</td>\n",
       "      <td>0.0</td>\n",
       "      <td>1.0</td>\n",
       "      <td>0</td>\n",
       "      <td>0</td>\n",
       "      <td>0</td>\n",
       "      <td>1</td>\n",
       "      <td>0</td>\n",
       "      <td>0</td>\n",
       "      <td>0</td>\n",
       "    </tr>\n",
       "    <tr>\n",
       "      <th>3</th>\n",
       "      <td>2011</td>\n",
       "      <td>1501</td>\n",
       "      <td>1.0</td>\n",
       "      <td>0</td>\n",
       "      <td>0.0</td>\n",
       "      <td>5.0</td>\n",
       "      <td>53.0</td>\n",
       "      <td>18.0</td>\n",
       "      <td>0.708843</td>\n",
       "      <td>2.422332</td>\n",
       "      <td>...</td>\n",
       "      <td>0.0</td>\n",
       "      <td>0.0</td>\n",
       "      <td>1.0</td>\n",
       "      <td>0</td>\n",
       "      <td>0</td>\n",
       "      <td>0</td>\n",
       "      <td>1</td>\n",
       "      <td>0</td>\n",
       "      <td>0</td>\n",
       "      <td>0</td>\n",
       "    </tr>\n",
       "    <tr>\n",
       "      <th>4</th>\n",
       "      <td>2002</td>\n",
       "      <td>2301</td>\n",
       "      <td>2.0</td>\n",
       "      <td>0</td>\n",
       "      <td>0.0</td>\n",
       "      <td>5.0</td>\n",
       "      <td>56.0</td>\n",
       "      <td>18.0</td>\n",
       "      <td>0.719778</td>\n",
       "      <td>3.658580</td>\n",
       "      <td>...</td>\n",
       "      <td>0.0</td>\n",
       "      <td>0.0</td>\n",
       "      <td>1.0</td>\n",
       "      <td>0</td>\n",
       "      <td>0</td>\n",
       "      <td>0</td>\n",
       "      <td>1</td>\n",
       "      <td>0</td>\n",
       "      <td>0</td>\n",
       "      <td>0</td>\n",
       "    </tr>\n",
       "  </tbody>\n",
       "</table>\n",
       "<p>5 rows × 25 columns</p>\n",
       "</div>"
      ],
      "text/plain": [
       "   syear   pid  concern_rec  treated  unemployed2  income   age  educyears  \\\n",
       "0   2002   901          2.0        0          0.0     2.0  51.0       10.5   \n",
       "1   2011   901          2.0        0          0.0     3.0  60.0       10.5   \n",
       "2   2002  1501          1.0        0          0.0     3.0  44.0       18.0   \n",
       "3   2011  1501          1.0        0          0.0     5.0  53.0       18.0   \n",
       "4   2002  2301          2.0        0          0.0     5.0  56.0       18.0   \n",
       "\n",
       "    skillsp       our  ...  temporary   dv  churchatt  stype1  stype2  stype3  \\\n",
       "0  0.617639  9.205261  ...        0.0  0.0        1.0       1       0       0   \n",
       "1  0.490324  8.017141  ...        0.0  0.0        1.0       1       0       0   \n",
       "2  0.719778  3.658580  ...        0.0  0.0        1.0       0       0       0   \n",
       "3  0.708843  2.422332  ...        0.0  0.0        1.0       0       0       0   \n",
       "4  0.719778  3.658580  ...        0.0  0.0        1.0       0       0       0   \n",
       "\n",
       "   stype4  stype5  stype6  stype7  \n",
       "0       0       0       0       0  \n",
       "1       0       0       0       0  \n",
       "2       1       0       0       0  \n",
       "3       1       0       0       0  \n",
       "4       1       0       0       0  \n",
       "\n",
       "[5 rows x 25 columns]"
      ]
     },
     "execution_count": 31,
     "metadata": {},
     "output_type": "execute_result"
    }
   ],
   "source": [
    "df.head()"
   ]
  },
  {
   "cell_type": "code",
   "execution_count": 32,
   "id": "5dc156a7",
   "metadata": {},
   "outputs": [
    {
     "data": {
      "text/html": [
       "<div>\n",
       "<style scoped>\n",
       "    .dataframe tbody tr th:only-of-type {\n",
       "        vertical-align: middle;\n",
       "    }\n",
       "\n",
       "    .dataframe tbody tr th {\n",
       "        vertical-align: top;\n",
       "    }\n",
       "\n",
       "    .dataframe thead th {\n",
       "        text-align: right;\n",
       "    }\n",
       "</style>\n",
       "<table border=\"1\" class=\"dataframe\">\n",
       "  <thead>\n",
       "    <tr style=\"text-align: right;\">\n",
       "      <th></th>\n",
       "      <th>syear</th>\n",
       "      <th>pid</th>\n",
       "      <th>concern_rec</th>\n",
       "      <th>treated</th>\n",
       "      <th>unemployed2</th>\n",
       "      <th>income</th>\n",
       "      <th>age</th>\n",
       "      <th>educyears</th>\n",
       "      <th>skillsp</th>\n",
       "      <th>our</th>\n",
       "      <th>...</th>\n",
       "      <th>temporary</th>\n",
       "      <th>dv</th>\n",
       "      <th>churchatt</th>\n",
       "      <th>stype1</th>\n",
       "      <th>stype2</th>\n",
       "      <th>stype3</th>\n",
       "      <th>stype4</th>\n",
       "      <th>stype5</th>\n",
       "      <th>stype6</th>\n",
       "      <th>stype7</th>\n",
       "    </tr>\n",
       "  </thead>\n",
       "  <tbody>\n",
       "    <tr>\n",
       "      <th>8203</th>\n",
       "      <td>2011</td>\n",
       "      <td>8249801</td>\n",
       "      <td>1.0</td>\n",
       "      <td>0</td>\n",
       "      <td>0.0</td>\n",
       "      <td>4.0</td>\n",
       "      <td>55.0</td>\n",
       "      <td>18.0</td>\n",
       "      <td>0.708843</td>\n",
       "      <td>2.422332</td>\n",
       "      <td>...</td>\n",
       "      <td>0.0</td>\n",
       "      <td>0.0</td>\n",
       "      <td>1.0</td>\n",
       "      <td>0</td>\n",
       "      <td>0</td>\n",
       "      <td>0</td>\n",
       "      <td>1</td>\n",
       "      <td>0</td>\n",
       "      <td>0</td>\n",
       "      <td>0</td>\n",
       "    </tr>\n",
       "    <tr>\n",
       "      <th>8204</th>\n",
       "      <td>2002</td>\n",
       "      <td>8249802</td>\n",
       "      <td>2.0</td>\n",
       "      <td>0</td>\n",
       "      <td>0.0</td>\n",
       "      <td>4.0</td>\n",
       "      <td>43.0</td>\n",
       "      <td>17.0</td>\n",
       "      <td>0.719778</td>\n",
       "      <td>3.658580</td>\n",
       "      <td>...</td>\n",
       "      <td>0.0</td>\n",
       "      <td>0.0</td>\n",
       "      <td>1.0</td>\n",
       "      <td>0</td>\n",
       "      <td>0</td>\n",
       "      <td>1</td>\n",
       "      <td>0</td>\n",
       "      <td>0</td>\n",
       "      <td>0</td>\n",
       "      <td>0</td>\n",
       "    </tr>\n",
       "    <tr>\n",
       "      <th>8205</th>\n",
       "      <td>2011</td>\n",
       "      <td>8249802</td>\n",
       "      <td>1.0</td>\n",
       "      <td>0</td>\n",
       "      <td>0.0</td>\n",
       "      <td>5.0</td>\n",
       "      <td>52.0</td>\n",
       "      <td>18.0</td>\n",
       "      <td>0.708843</td>\n",
       "      <td>2.422332</td>\n",
       "      <td>...</td>\n",
       "      <td>0.0</td>\n",
       "      <td>0.0</td>\n",
       "      <td>1.0</td>\n",
       "      <td>0</td>\n",
       "      <td>0</td>\n",
       "      <td>0</td>\n",
       "      <td>1</td>\n",
       "      <td>0</td>\n",
       "      <td>0</td>\n",
       "      <td>0</td>\n",
       "    </tr>\n",
       "    <tr>\n",
       "      <th>8206</th>\n",
       "      <td>2002</td>\n",
       "      <td>8249803</td>\n",
       "      <td>1.0</td>\n",
       "      <td>0</td>\n",
       "      <td>0.0</td>\n",
       "      <td>1.0</td>\n",
       "      <td>21.0</td>\n",
       "      <td>13.0</td>\n",
       "      <td>3.047472</td>\n",
       "      <td>11.855548</td>\n",
       "      <td>...</td>\n",
       "      <td>1.0</td>\n",
       "      <td>0.0</td>\n",
       "      <td>1.0</td>\n",
       "      <td>0</td>\n",
       "      <td>0</td>\n",
       "      <td>0</td>\n",
       "      <td>1</td>\n",
       "      <td>0</td>\n",
       "      <td>0</td>\n",
       "      <td>0</td>\n",
       "    </tr>\n",
       "    <tr>\n",
       "      <th>8207</th>\n",
       "      <td>2011</td>\n",
       "      <td>8249803</td>\n",
       "      <td>1.0</td>\n",
       "      <td>0</td>\n",
       "      <td>0.0</td>\n",
       "      <td>2.0</td>\n",
       "      <td>30.0</td>\n",
       "      <td>18.0</td>\n",
       "      <td>0.708843</td>\n",
       "      <td>2.422332</td>\n",
       "      <td>...</td>\n",
       "      <td>1.0</td>\n",
       "      <td>0.0</td>\n",
       "      <td>1.0</td>\n",
       "      <td>0</td>\n",
       "      <td>0</td>\n",
       "      <td>0</td>\n",
       "      <td>1</td>\n",
       "      <td>0</td>\n",
       "      <td>0</td>\n",
       "      <td>0</td>\n",
       "    </tr>\n",
       "  </tbody>\n",
       "</table>\n",
       "<p>5 rows × 25 columns</p>\n",
       "</div>"
      ],
      "text/plain": [
       "      syear      pid  concern_rec  treated  unemployed2  income   age  \\\n",
       "8203   2011  8249801          1.0        0          0.0     4.0  55.0   \n",
       "8204   2002  8249802          2.0        0          0.0     4.0  43.0   \n",
       "8205   2011  8249802          1.0        0          0.0     5.0  52.0   \n",
       "8206   2002  8249803          1.0        0          0.0     1.0  21.0   \n",
       "8207   2011  8249803          1.0        0          0.0     2.0  30.0   \n",
       "\n",
       "      educyears   skillsp        our  ...  temporary   dv  churchatt  stype1  \\\n",
       "8203       18.0  0.708843   2.422332  ...        0.0  0.0        1.0       0   \n",
       "8204       17.0  0.719778   3.658580  ...        0.0  0.0        1.0       0   \n",
       "8205       18.0  0.708843   2.422332  ...        0.0  0.0        1.0       0   \n",
       "8206       13.0  3.047472  11.855548  ...        1.0  0.0        1.0       0   \n",
       "8207       18.0  0.708843   2.422332  ...        1.0  0.0        1.0       0   \n",
       "\n",
       "      stype2  stype3  stype4  stype5  stype6  stype7  \n",
       "8203       0       0       1       0       0       0  \n",
       "8204       0       1       0       0       0       0  \n",
       "8205       0       0       1       0       0       0  \n",
       "8206       0       0       1       0       0       0  \n",
       "8207       0       0       1       0       0       0  \n",
       "\n",
       "[5 rows x 25 columns]"
      ]
     },
     "execution_count": 32,
     "metadata": {},
     "output_type": "execute_result"
    }
   ],
   "source": [
    "df.tail()"
   ]
  },
  {
   "cell_type": "code",
   "execution_count": 33,
   "id": "74359712",
   "metadata": {},
   "outputs": [
    {
     "data": {
      "text/plain": [
       "(8208, 25)"
      ]
     },
     "execution_count": 33,
     "metadata": {},
     "output_type": "execute_result"
    }
   ],
   "source": [
    "df.shape"
   ]
  },
  {
   "cell_type": "markdown",
   "id": "5373b6ca",
   "metadata": {},
   "source": [
    "# Setting up data for Feature Selection"
   ]
  },
  {
   "cell_type": "code",
   "execution_count": 34,
   "id": "8966bdf7",
   "metadata": {},
   "outputs": [],
   "source": [
    "standard = StandardScaler()\n",
    "min_max = MinMaxScaler()\n",
    "poly2 = PolynomialFeatures(degree=2, include_bias=False)"
   ]
  },
  {
   "cell_type": "code",
   "execution_count": 35,
   "id": "664c0d0a",
   "metadata": {},
   "outputs": [],
   "source": [
    "D = np.array(df.loc[df['syear'] == 2002, 'treated'])"
   ]
  },
  {
   "cell_type": "code",
   "execution_count": 36,
   "id": "6b367b17",
   "metadata": {},
   "outputs": [],
   "source": [
    "X = np.array(df.loc[df['syear'] == 2002, ['income', 'age', 'educyears', 'skillsp', 'our', 'tenure2', 'transition', \n",
    "                                          'percentimmigr', 'manualwork', 'gender', 'temporary', 'dv', 'churchatt', \n",
    "                                          'stype1', 'stype2', 'stype3','stype4','stype5','stype6','stype7']])"
   ]
  },
  {
   "cell_type": "code",
   "execution_count": 37,
   "id": "4a21c267",
   "metadata": {},
   "outputs": [],
   "source": [
    "X_s = standard.fit_transform(X[:, 0:8])"
   ]
  },
  {
   "cell_type": "code",
   "execution_count": 38,
   "id": "4015b57f",
   "metadata": {},
   "outputs": [],
   "source": [
    "X_scaled = np.concatenate((X_s, X[:, 8:]), axis=1)"
   ]
  },
  {
   "cell_type": "code",
   "execution_count": 39,
   "id": "c290d331",
   "metadata": {},
   "outputs": [],
   "source": [
    "Y_0 = np.array(df.loc[df['syear'] == 2002, 'concern_rec'])\n",
    "Y_1 = np.array(df.loc[df['syear'] == 2011, 'concern_rec'])"
   ]
  },
  {
   "cell_type": "code",
   "execution_count": 40,
   "id": "db3ed540",
   "metadata": {},
   "outputs": [],
   "source": [
    "df = np.concatenate((Y_1.reshape(-1, 1), Y_0.reshape(-1, 1), D.reshape(-1, 1), X), axis=1)"
   ]
  },
  {
   "cell_type": "code",
   "execution_count": 41,
   "id": "7add597d",
   "metadata": {},
   "outputs": [],
   "source": [
    "X_mu = df[np.where(df[:, 2] == 0)][:, 3:]"
   ]
  },
  {
   "cell_type": "code",
   "execution_count": 42,
   "id": "22543af6",
   "metadata": {},
   "outputs": [],
   "source": [
    "df_scaled = np.concatenate((Y_1.reshape(-1, 1), Y_0.reshape(-1, 1), D.reshape(-1, 1), X_scaled), axis=1)\n",
    "\n",
    "X_mu_scaled = df_scaled[np.where(df_scaled[:, 2] == 0)][:, 3:]"
   ]
  },
  {
   "cell_type": "code",
   "execution_count": 43,
   "id": "86846819",
   "metadata": {},
   "outputs": [],
   "source": [
    "Y_0_mu = df[np.where(df[:, 2] == 0)][:, 1]\n",
    "Y_1_mu = df[np.where(df[:, 2] == 0)][:, 0]"
   ]
  },
  {
   "cell_type": "markdown",
   "id": "85f1a23f",
   "metadata": {},
   "source": [
    "# Feature Selection/Importance"
   ]
  },
  {
   "cell_type": "markdown",
   "id": "5fff38a2",
   "metadata": {},
   "source": [
    "## Plot Settings"
   ]
  },
  {
   "cell_type": "code",
   "execution_count": 44,
   "id": "481f845b",
   "metadata": {},
   "outputs": [],
   "source": [
    "plt.style.use('ggplot')"
   ]
  },
  {
   "cell_type": "code",
   "execution_count": 45,
   "id": "8207ac74",
   "metadata": {},
   "outputs": [],
   "source": [
    "plt.rcParams['font.family'] = 'Garamond'\n",
    "plt.rcParams['font.weight'] = 'bold'\n",
    "font_style = {'fontname':'Garamond'}"
   ]
  },
  {
   "cell_type": "code",
   "execution_count": 46,
   "id": "1abe6d95",
   "metadata": {},
   "outputs": [],
   "source": [
    "col_names = ['Income', 'Age', 'Educ', 'Task Comp', 'Occ Unemp', 'Tenure', 'Transition',\n",
    "             'Perc Immigr', 'Manual', 'Gender', 'Temp', 'Diff', 'Church', 'SType1', \n",
    "             'SType2', 'SType3','SType4','SType5','SType6','SType7'] "
   ]
  },
  {
   "cell_type": "markdown",
   "id": "af29b79e",
   "metadata": {},
   "source": [
    "## Random Forest"
   ]
  },
  {
   "cell_type": "code",
   "execution_count": 47,
   "id": "a80efefb",
   "metadata": {},
   "outputs": [],
   "source": [
    "p_max = X.shape[1]\n",
    "\n",
    "params = {'max_depth'    : np.linspace(1, 10, 10, dtype=int),\n",
    "          'max_features' : np.linspace(1, p_max, int(p_max), dtype=int)}"
   ]
  },
  {
   "cell_type": "code",
   "execution_count": 48,
   "id": "b2a884c7",
   "metadata": {},
   "outputs": [],
   "source": [
    "rf_cv = GridSearchCV(estimator=RandomForestClassifier(random_state=0), \n",
    "                     param_grid=params, scoring='neg_log_loss', cv=3).fit(X, D)"
   ]
  },
  {
   "cell_type": "code",
   "execution_count": 49,
   "id": "862d68ac",
   "metadata": {},
   "outputs": [
    {
     "data": {
      "text/plain": [
       "{'max_depth': 6, 'max_features': 6}"
      ]
     },
     "execution_count": 49,
     "metadata": {},
     "output_type": "execute_result"
    }
   ],
   "source": [
    "rf_cv.best_params_"
   ]
  },
  {
   "cell_type": "code",
   "execution_count": 50,
   "id": "bea9dba3",
   "metadata": {},
   "outputs": [],
   "source": [
    "rf = RandomForestClassifier(random_state=0, max_depth=6, max_features=6).fit(X, D)"
   ]
  },
  {
   "cell_type": "code",
   "execution_count": 51,
   "id": "f10c5d4a",
   "metadata": {},
   "outputs": [],
   "source": [
    "importance = pd.DataFrame({'importance': rf.feature_importances_ * 100}, index=col_names)\n",
    "importance = importance.sort_values(by='importance', axis=0, ascending=True)"
   ]
  },
  {
   "cell_type": "code",
   "execution_count": 52,
   "id": "8da356fc",
   "metadata": {},
   "outputs": [
    {
     "data": {
      "image/png": "[encoded data removed]",
      "text/plain": [
       "<Figure size 864x648 with 1 Axes>"
      ]
     },
     "metadata": {},
     "output_type": "display_data"
    }
   ],
   "source": [
    "plt.figure(figsize=(12, 9))\n",
    "bar_plot = plt.barh(importance.index, importance['importance'], color='royalblue')\n",
    "plt.yticks(fontsize=18, **font_style, fontweight='bold')\n",
    "plt.xticks(fontsize=16, **font_style, fontweight='bold')\n",
    "# plt.savefig('rf.png', dpi=500)\n",
    "plt.show()"
   ]
  },
  {
   "cell_type": "markdown",
   "id": "de524439",
   "metadata": {},
   "source": [
    "## LASSO"
   ]
  },
  {
   "cell_type": "code",
   "execution_count": 53,
   "id": "c8ba91e2",
   "metadata": {},
   "outputs": [],
   "source": [
    "params = {'alpha' : np.linspace(0.000001, 1, 10000)}"
   ]
  },
  {
   "cell_type": "code",
   "execution_count": 54,
   "id": "c27de00b",
   "metadata": {},
   "outputs": [],
   "source": [
    "lasso_cv = GridSearchCV(estimator=Lasso(random_state=0, fit_intercept=False, max_iter=5000), \n",
    "                        param_grid=params, cv=3).fit(X_scaled, D)"
   ]
  },
  {
   "cell_type": "code",
   "execution_count": 55,
   "id": "adb479aa",
   "metadata": {},
   "outputs": [
    {
     "data": {
      "text/plain": [
       "{'alpha': 0.0024012376237623765}"
      ]
     },
     "execution_count": 55,
     "metadata": {},
     "output_type": "execute_result"
    }
   ],
   "source": [
    "lasso_cv.best_params_"
   ]
  },
  {
   "cell_type": "code",
   "execution_count": 56,
   "id": "a7123f05",
   "metadata": {},
   "outputs": [],
   "source": [
    "lasso = Lasso(random_state=0, alpha=0.0024012376237623765, max_iter=5000).fit(X_scaled, D)"
   ]
  },
  {
   "cell_type": "code",
   "execution_count": 57,
   "id": "c4655cb5",
   "metadata": {},
   "outputs": [
    {
     "data": {
      "image/png": "[encoded data removed]",
      "text/plain": [
       "<Figure size 864x648 with 1 Axes>"
      ]
     },
     "metadata": {},
     "output_type": "display_data"
    }
   ],
   "source": [
    "plt.figure(figsize=(12, 9))\n",
    "plt.bar(col_names, lasso.coef_.tolist(), color='burlywood')\n",
    "plt.yticks(fontsize=16, **font_style, fontweight='bold')\n",
    "plt.xticks(rotation='vertical', fontsize=18, **font_style, fontweight='bold')\n",
    "plt.axhline(y=0, linewidth=2, color='black')\n",
    "# plt.savefig('lasso.png', dpi=500)\n",
    "plt.show()"
   ]
  },
  {
   "cell_type": "markdown",
   "id": "0cd3b7aa",
   "metadata": {},
   "source": [
    "## Combining Figures"
   ]
  },
  {
   "cell_type": "code",
   "execution_count": 58,
   "id": "23eea7bd",
   "metadata": {},
   "outputs": [
    {
     "data": {
      "image/png": "[encoded data removed]",
      "text/plain": [
       "<Figure size 936x504 with 2 Axes>"
      ]
     },
     "metadata": {},
     "output_type": "display_data"
    }
   ],
   "source": [
    "fig, ax = plt.subplots(1, 2, figsize=(13, 7))\n",
    "fig.suptitle('Feature Importance Using Machine Learning', fontsize=25, fontweight='bold', y=1)\n",
    "ax[0].set_title('Random Forest', fontsize=18)\n",
    "ax[0].tick_params(axis='both', which='major', labelsize=16)\n",
    "ax[0].barh(importance.index, importance['importance'], color='royalblue')\n",
    "ax[1].set_title('LASSO', fontsize=18)\n",
    "ax[1].tick_params(axis='x', which='major', labelrotation=90, labelsize=16)\n",
    "ax[1].tick_params(axis='y', which='major', labelsize=16)\n",
    "ax[1].bar(col_names, lasso.coef_.tolist(), color='burlywood')\n",
    "ax[1].axhline(y=0, color='black')\n",
    "plt.savefig('features.png', dpi=500, bbox_inches='tight')\n",
    "plt.show()"
   ]
  },
  {
   "cell_type": "markdown",
   "id": "e252d9d0",
   "metadata": {},
   "source": [
    "# DMLDiD Estimation "
   ]
  },
  {
   "cell_type": "code",
   "execution_count": 59,
   "id": "a5bcb376",
   "metadata": {},
   "outputs": [],
   "source": [
    "X = X[:, :-1]"
   ]
  },
  {
   "cell_type": "code",
   "execution_count": 60,
   "id": "528357cd",
   "metadata": {},
   "outputs": [],
   "source": [
    "X_scaled = X_scaled[:, :-1]"
   ]
  },
  {
   "cell_type": "code",
   "execution_count": 61,
   "id": "fcb8dd3d",
   "metadata": {},
   "outputs": [],
   "source": [
    "X_mu = X_mu[:, :-1]"
   ]
  },
  {
   "cell_type": "code",
   "execution_count": 62,
   "id": "e89e5693",
   "metadata": {},
   "outputs": [],
   "source": [
    "X_mu_scaled = X_mu_scaled[:, :-1]"
   ]
  },
  {
   "cell_type": "code",
   "execution_count": 63,
   "id": "10a1a8a0",
   "metadata": {},
   "outputs": [],
   "source": [
    "X_p = poly2.fit_transform(X)"
   ]
  },
  {
   "cell_type": "code",
   "execution_count": 64,
   "id": "4b3d5d5a",
   "metadata": {},
   "outputs": [],
   "source": [
    "X_p_scaled = min_max.fit_transform(X_p)"
   ]
  },
  {
   "cell_type": "code",
   "execution_count": 65,
   "id": "44836fad",
   "metadata": {},
   "outputs": [],
   "source": [
    "X_mu_p = poly2.fit_transform(X_mu)"
   ]
  },
  {
   "cell_type": "code",
   "execution_count": 66,
   "id": "e9664b4d",
   "metadata": {},
   "outputs": [],
   "source": [
    "df_p_scaled = np.concatenate((Y_1.reshape(-1, 1), Y_0.reshape(-1, 1), D.reshape(-1, 1), X_p_scaled), axis=1)"
   ]
  },
  {
   "cell_type": "code",
   "execution_count": 67,
   "id": "9df5e78f",
   "metadata": {},
   "outputs": [],
   "source": [
    "X_mu_p_scaled = df_p_scaled[np.where(df_p_scaled[:, 2] == 0)][:, 3:]"
   ]
  },
  {
   "cell_type": "markdown",
   "id": "ef588d5e",
   "metadata": {},
   "source": [
    "## Logit-L1 & LASSO"
   ]
  },
  {
   "cell_type": "code",
   "execution_count": 68,
   "id": "be9b859f",
   "metadata": {},
   "outputs": [],
   "source": [
    "g_params = {'C' : [0.0001, 0.0005, 0.001, 0.005, 0.01, 0.05, 0.1, 0.5, 1, 5, 10]}\n",
    "g_ML = LogisticRegression(random_state=0, penalty='l1', solver='saga', max_iter=10000)"
   ]
  },
  {
   "cell_type": "code",
   "execution_count": 69,
   "id": "4505106c",
   "metadata": {},
   "outputs": [],
   "source": [
    "c, alpha = 1.1, 0.05\n",
    "hyp = bcch_rule(X_mu_scaled, Y_1_mu - Y_0_mu, c, alpha)"
   ]
  },
  {
   "cell_type": "code",
   "execution_count": 70,
   "id": "5b412183",
   "metadata": {},
   "outputs": [],
   "source": [
    "mu_params = {'alpha' : [hyp]}\n",
    "mu_ML = Lasso(random_state=0, alpha=hyp)"
   ]
  },
  {
   "cell_type": "code",
   "execution_count": 71,
   "id": "2fabe23a",
   "metadata": {},
   "outputs": [
    {
     "data": {
      "text/plain": [
       "(-0.0324739141913474, 0.044283887119001886)"
      ]
     },
     "execution_count": 71,
     "metadata": {},
     "output_type": "execute_result"
    }
   ],
   "source": [
    "DMLDiD(Y_1, Y_0, D, X_scaled, g_ML, g_params, mu_ML, mu_params)"
   ]
  },
  {
   "cell_type": "code",
   "execution_count": 72,
   "id": "e854e483",
   "metadata": {},
   "outputs": [],
   "source": [
    "c, alpha = 1.1, 0.05\n",
    "hyp = bcch_rule(X_mu_p_scaled, Y_1_mu - Y_0_mu, c, alpha)"
   ]
  },
  {
   "cell_type": "code",
   "execution_count": 73,
   "id": "8707f875",
   "metadata": {},
   "outputs": [],
   "source": [
    "mu_params = {'alpha' : [hyp]}\n",
    "mu_ML = Lasso(random_state=0, alpha=hyp)"
   ]
  },
  {
   "cell_type": "code",
   "execution_count": 74,
   "id": "6188ac2c",
   "metadata": {},
   "outputs": [
    {
     "data": {
      "text/plain": [
       "(-0.03916775271938008, 0.04499936696711767)"
      ]
     },
     "execution_count": 74,
     "metadata": {},
     "output_type": "execute_result"
    }
   ],
   "source": [
    "DMLDiD(Y_1, Y_0, D, X_p_scaled, g_ML, g_params, mu_ML, mu_params)"
   ]
  },
  {
   "cell_type": "markdown",
   "id": "56a4b014",
   "metadata": {},
   "source": [
    "## Neural Networks "
   ]
  },
  {
   "cell_type": "code",
   "execution_count": 75,
   "id": "4bb823f9",
   "metadata": {},
   "outputs": [],
   "source": [
    "mspecs = [[3, 2], [2]]\n",
    "optimizers = ['sgd', 'adam']\n",
    "lrates = [0.00001, 0.0001, 0.001, 0.01]\n",
    "regs = [0.01, 0.1, 1]"
   ]
  },
  {
   "cell_type": "code",
   "execution_count": 76,
   "id": "f42d9931",
   "metadata": {},
   "outputs": [],
   "source": [
    "g_params = [mspecs, optimizers, lrates, regs]\n",
    "mu_params = [mspecs, optimizers, lrates, regs]"
   ]
  },
  {
   "cell_type": "code",
   "execution_count": 77,
   "id": "724c81d9",
   "metadata": {},
   "outputs": [
    {
     "data": {
      "text/plain": [
       "(-0.018199457451584855, 0.04445515847963718)"
      ]
     },
     "execution_count": 77,
     "metadata": {},
     "output_type": "execute_result"
    }
   ],
   "source": [
    "DMLDiD_TF(Y_1, Y_0, D, X_scaled, X_scaled.shape[1], g_params, mu_params)"
   ]
  },
  {
   "cell_type": "code",
   "execution_count": 78,
   "id": "a0c93a74",
   "metadata": {},
   "outputs": [
    {
     "data": {
      "text/plain": [
       "(-0.045370940714963164, 0.04199449348802667)"
      ]
     },
     "execution_count": 78,
     "metadata": {},
     "output_type": "execute_result"
    }
   ],
   "source": [
    "DMLDiD_TF(Y_1, Y_0, D, X_p_scaled, X_p_scaled.shape[1], g_params, mu_params)"
   ]
  },
  {
   "cell_type": "markdown",
   "id": "1747ec63",
   "metadata": {},
   "source": [
    "## Random Forest "
   ]
  },
  {
   "cell_type": "code",
   "execution_count": 79,
   "id": "9e743981",
   "metadata": {},
   "outputs": [],
   "source": [
    "p_max = X.shape[1]"
   ]
  },
  {
   "cell_type": "code",
   "execution_count": 80,
   "id": "96cabfdb",
   "metadata": {},
   "outputs": [],
   "source": [
    "g_params = {'max_depth'    : np.linspace(1, 10, 10, dtype=int),\n",
    "            'max_features' : np.linspace(1, p_max, int(p_max), dtype=int)}\n",
    "\n",
    "g_ML = RandomForestClassifier(random_state=0)"
   ]
  },
  {
   "cell_type": "code",
   "execution_count": 81,
   "id": "5b5bbbaf",
   "metadata": {},
   "outputs": [],
   "source": [
    "mu_params = {'max_depth'    : np.linspace(1, 10, 10, dtype=int),\n",
    "             'max_features' : np.linspace(1, p_max, int(p_max), dtype=int)}\n",
    "\n",
    "mu_ML = RandomForestRegressor(random_state=0)"
   ]
  },
  {
   "cell_type": "code",
   "execution_count": 82,
   "id": "20d8bbda",
   "metadata": {},
   "outputs": [
    {
     "data": {
      "text/plain": [
       "(-0.04307322957792531, 0.04104453599710479)"
      ]
     },
     "execution_count": 82,
     "metadata": {},
     "output_type": "execute_result"
    }
   ],
   "source": [
    "DMLDiD(Y_1, Y_0, D, X, g_ML, g_params, mu_ML, mu_params)"
   ]
  },
  {
   "cell_type": "code",
   "execution_count": 83,
   "id": "64241178",
   "metadata": {},
   "outputs": [
    {
     "data": {
      "text/plain": [
       "(-0.04394188904588268, 0.0405503761561771)"
      ]
     },
     "execution_count": 83,
     "metadata": {},
     "output_type": "execute_result"
    }
   ],
   "source": [
    "DMLDiD(Y_1, Y_0, D, X_p, g_ML, g_params, mu_ML, mu_params)"
   ]
  },
  {
   "cell_type": "markdown",
   "id": "254cd97d",
   "metadata": {},
   "source": [
    "## Gradient Boosting"
   ]
  },
  {
   "cell_type": "code",
   "execution_count": 84,
   "id": "e54837bb",
   "metadata": {},
   "outputs": [],
   "source": [
    "g_params = {'max_depth'     : [1, 2, 3], \n",
    "            'learning_rate' : [0.0001, 0.001, 0.01, 0.1, 0.5],\n",
    "            'n_estimators'  : [25, 50, 75, 100, 125],\n",
    "            'max_features'  : [3, 4, 5, 6, 7, 8]}\n",
    "\n",
    "g_ML = GradientBoostingClassifier(random_state=0)"
   ]
  },
  {
   "cell_type": "code",
   "execution_count": 85,
   "id": "a860cd67",
   "metadata": {},
   "outputs": [],
   "source": [
    "mu_params = {'max_depth'     : [1, 2, 3], \n",
    "             'learning_rate' : [0.0001, 0.001, 0.01, 0.1, 0.5],\n",
    "             'n_estimators'  : [25, 50, 75, 100, 125],\n",
    "             'max_features'  : [3, 4, 5, 6, 7, 8]}\n",
    "\n",
    "mu_ML = GradientBoostingRegressor(random_state=0)"
   ]
  },
  {
   "cell_type": "code",
   "execution_count": 86,
   "id": "d38f13bc",
   "metadata": {},
   "outputs": [
    {
     "data": {
      "text/plain": [
       "(-0.044064483206084866, 0.04126290896869196)"
      ]
     },
     "execution_count": 86,
     "metadata": {},
     "output_type": "execute_result"
    }
   ],
   "source": [
    "DMLDiD(Y_1, Y_0, D, X, g_ML, g_params, mu_ML, mu_params)"
   ]
  },
  {
   "cell_type": "code",
   "execution_count": 87,
   "id": "ddd96b9b",
   "metadata": {},
   "outputs": [
    {
     "data": {
      "text/plain": [
       "(-0.040622249128549275, 0.041570910655469535)"
      ]
     },
     "execution_count": 87,
     "metadata": {},
     "output_type": "execute_result"
    }
   ],
   "source": [
    "DMLDiD(Y_1, Y_0, D, X_p, g_ML, g_params, mu_ML, mu_params)"
   ]
  },
  {
   "cell_type": "markdown",
   "id": "ece2c90f",
   "metadata": {},
   "source": [
    "## AdaBoost"
   ]
  },
  {
   "cell_type": "code",
   "execution_count": 88,
   "id": "9eeff543",
   "metadata": {},
   "outputs": [],
   "source": [
    "g_params = {'learning_rate'  : [0.0001, 0.001, 0.01, 0.1, 0.5],\n",
    "            'n_estimators'   : [25, 50, 75, 100, 125],\n",
    "            'base_estimator' : [DecisionTreeClassifier(max_depth=1), DecisionTreeClassifier(max_depth=2), \n",
    "                                DecisionTreeClassifier(max_depth=3)]}\n",
    "\n",
    "g_ML = AdaBoostClassifier(random_state=0)"
   ]
  },
  {
   "cell_type": "code",
   "execution_count": 89,
   "id": "fdc9624e",
   "metadata": {},
   "outputs": [],
   "source": [
    "mu_params = {'learning_rate'  : [0.0001, 0.001, 0.01, 0.1, 0.5],\n",
    "             'n_estimators'   : [25, 50, 75, 100, 125],\n",
    "             'base_estimator' : [DecisionTreeRegressor(max_depth=1), DecisionTreeRegressor(max_depth=2), \n",
    "                                 DecisionTreeRegressor(max_depth=3)]}\n",
    "\n",
    "mu_ML = AdaBoostRegressor(random_state=0)"
   ]
  },
  {
   "cell_type": "code",
   "execution_count": 90,
   "id": "8ba3b693",
   "metadata": {},
   "outputs": [
    {
     "data": {
      "text/plain": [
       "(-0.029582273109815014, 0.041930093252002844)"
      ]
     },
     "execution_count": 90,
     "metadata": {},
     "output_type": "execute_result"
    }
   ],
   "source": [
    "DMLDiD(Y_1, Y_0, D, X, g_ML, g_params, mu_ML, mu_params)"
   ]
  },
  {
   "cell_type": "code",
   "execution_count": 91,
   "id": "2b3a7727",
   "metadata": {},
   "outputs": [
    {
     "data": {
      "text/plain": [
       "(-0.026613181883137292, 0.0419157445117166)"
      ]
     },
     "execution_count": 91,
     "metadata": {},
     "output_type": "execute_result"
    }
   ],
   "source": [
    "DMLDiD(Y_1, Y_0, D, X_p, g_ML, g_params, mu_ML, mu_params)"
   ]
  },
  {
   "cell_type": "markdown",
   "id": "e43a3d49",
   "metadata": {},
   "source": [
    "## XGBoost"
   ]
  },
  {
   "cell_type": "code",
   "execution_count": 92,
   "id": "bf07f65c",
   "metadata": {},
   "outputs": [],
   "source": [
    "g_params = {'learning_rate' : [0.0001, 0.001, 0.01, 0.1, 0.5],\n",
    "            'n_estimators'  : [25, 50, 75, 100, 125],\n",
    "            'reg_lambda'    : [0.1, 0.5, 1],\n",
    "            'reg_alpha'     : [0.1, 0.5, 1],\n",
    "            'max_depth'     : [1, 2, 3]}\n",
    "\n",
    "g_ML = xgb.XGBClassifier(objective='binary:logistic', random_state=0)"
   ]
  },
  {
   "cell_type": "code",
   "execution_count": 93,
   "id": "7320078c",
   "metadata": {},
   "outputs": [],
   "source": [
    "mu_params = {'learning_rate' : [0.0001, 0.001, 0.01, 0.1, 0.5],\n",
    "             'n_estimators'  : [25, 50, 75, 100, 125],\n",
    "             'reg_lambda'    : [0.1, 0.5, 1],\n",
    "             'reg_alpha'     : [0.1, 0.5, 1],\n",
    "             'max_depth'     : [1, 2, 3]}\n",
    "\n",
    "mu_ML = xgb.XGBRegressor(objective='reg:squarederror', random_state=0)"
   ]
  },
  {
   "cell_type": "code",
   "execution_count": 94,
   "id": "835f22ae",
   "metadata": {},
   "outputs": [
    {
     "data": {
      "text/plain": [
       "(-0.04115000166927788, 0.04123762170090014)"
      ]
     },
     "execution_count": 94,
     "metadata": {},
     "output_type": "execute_result"
    }
   ],
   "source": [
    "DMLDiD(Y_1, Y_0, D, X, g_ML, g_params, mu_ML, mu_params)"
   ]
  },
  {
   "cell_type": "code",
   "execution_count": 95,
   "id": "68b42676",
   "metadata": {},
   "outputs": [
    {
     "data": {
      "text/plain": [
       "(-0.03678867605099304, 0.041686205936385466)"
      ]
     },
     "execution_count": 95,
     "metadata": {},
     "output_type": "execute_result"
    }
   ],
   "source": [
    "DMLDiD(Y_1, Y_0, D, X_p, g_ML, g_params, mu_ML, mu_params)"
   ]
  }
 ],
 "metadata": {
  "kernelspec": {
   "display_name": "Python 3 (ipykernel)",
   "language": "python",
   "name": "python3"
  },
  "language_info": {
   "codemirror_mode": {
    "name": "ipython",
    "version": 3
   },
   "file_extension": ".py",
   "mimetype": "text/x-python",
   "name": "python",
   "nbconvert_exporter": "python",
   "pygments_lexer": "ipython3",
   "version": "3.9.7"
  }
 },
 "nbformat": 4,
 "nbformat_minor": 5
}
