{
 "cells": [
  {
   "cell_type": "markdown",
   "id": "ac82bec1",
   "metadata": {},
   "source": [
    "# UCLA Master in Quantitative Economics \n",
    "## Replication File for <i>Re-estimating the Effect of Skill Specificity on Anti-Immigration Attitudes: A Double/Debiased Machine Learning Approach<i>\n",
    "### Author: Nathan Kim \n",
    "### Faculty Advisor: Denis Chetverikov"
   ]
  },
  {
   "cell_type": "code",
   "execution_count": 1,
   "id": "c384d3ed",
   "metadata": {},
   "outputs": [],
   "source": [
    "# Standard modules \n",
    "import random\n",
    "import numpy as np \n",
    "import pandas as pd \n",
    "from scipy.stats import norm \n",
    "import matplotlib.pyplot as plt"
   ]
  },
  {
   "cell_type": "code",
   "execution_count": 2,
   "id": "939d5f7c",
   "metadata": {},
   "outputs": [],
   "source": [
    "# Linear, tree-based, and ensemble models \n",
    "from sklearn.model_selection import GridSearchCV, StratifiedKFold, KFold\n",
    "\n",
    "from sklearn.preprocessing import StandardScaler, MinMaxScaler\n",
    "\n",
    "from sklearn.linear_model import LogisticRegression, Lasso\n",
    "\n",
    "from sklearn.tree import DecisionTreeClassifier, DecisionTreeRegressor \n",
    "\n",
    "from sklearn.ensemble import AdaBoostClassifier, AdaBoostRegressor\n",
    "from sklearn.ensemble import RandomForestClassifier, RandomForestRegressor\n",
    "from sklearn.ensemble import GradientBoostingClassifier, GradientBoostingRegressor"
   ]
  },
  {
   "cell_type": "code",
   "execution_count": 3,
   "id": "0f7dd427",
   "metadata": {},
   "outputs": [],
   "source": [
    "# dmlc XGBoost \n",
    "import xgboost as xgb"
   ]
  },
  {
   "cell_type": "code",
   "execution_count": 4,
   "id": "948255a3",
   "metadata": {},
   "outputs": [],
   "source": [
    "# TensorFlow\n",
    "import tensorflow as tf\n",
    "from tensorflow import keras\n",
    "from tensorflow.keras import Sequential, layers\n",
    "from tensorflow.keras.losses import BinaryCrossentropy, MeanSquaredError"
   ]
  },
  {
   "cell_type": "markdown",
   "id": "7f0294f4",
   "metadata": {},
   "source": [
    "# Data import & cleaning "
   ]
  },
  {
   "cell_type": "code",
   "execution_count": 5,
   "id": "6917dda2",
   "metadata": {},
   "outputs": [],
   "source": [
    "# Import data\n",
    "df = pd.read_stata('gsp_data_final.dta')"
   ]
  },
  {
   "cell_type": "code",
   "execution_count": 6,
   "id": "26940843",
   "metadata": {},
   "outputs": [
    {
     "name": "stdout",
     "output_type": "stream",
     "text": [
      "[1.]\n",
      "[2004 2003 2005]\n"
     ]
    }
   ],
   "source": [
    "# Treatment group should be unemployed sometime during 2003 to 2005\n",
    "print(df.loc[df['treated'] == 1]['unemployed2'].unique())\n",
    "print(df.loc[df['treated'] == 1]['syear'].unique())"
   ]
  },
  {
   "cell_type": "code",
   "execution_count": 7,
   "id": "2961e964",
   "metadata": {},
   "outputs": [],
   "source": [
    "# Subsetting data \n",
    "df = df[['syear', 'pid', 'concern_rec', 'treated', 'unemployed2', 'income','manualwork',\n",
    "         'gender', 'age', 'temporary', 'educyears', 'skillsp', 'our']]"
   ]
  },
  {
   "cell_type": "code",
   "execution_count": 8,
   "id": "d25ac3be",
   "metadata": {},
   "outputs": [],
   "source": [
    "# Sort by surveyee ID and survey year \n",
    "df = df.sort_values(by=['pid', 'syear'])"
   ]
  },
  {
   "cell_type": "code",
   "execution_count": 9,
   "id": "69f369cb",
   "metadata": {},
   "outputs": [
    {
     "data": {
      "text/html": [
       "<div>\n",
       "<style scoped>\n",
       "    .dataframe tbody tr th:only-of-type {\n",
       "        vertical-align: middle;\n",
       "    }\n",
       "\n",
       "    .dataframe tbody tr th {\n",
       "        vertical-align: top;\n",
       "    }\n",
       "\n",
       "    .dataframe thead th {\n",
       "        text-align: right;\n",
       "    }\n",
       "</style>\n",
       "<table border=\"1\" class=\"dataframe\">\n",
       "  <thead>\n",
       "    <tr style=\"text-align: right;\">\n",
       "      <th></th>\n",
       "      <th>syear</th>\n",
       "      <th>pid</th>\n",
       "      <th>concern_rec</th>\n",
       "      <th>treated</th>\n",
       "      <th>unemployed2</th>\n",
       "      <th>income</th>\n",
       "      <th>manualwork</th>\n",
       "      <th>gender</th>\n",
       "      <th>age</th>\n",
       "      <th>temporary</th>\n",
       "      <th>educyears</th>\n",
       "      <th>skillsp</th>\n",
       "      <th>our</th>\n",
       "    </tr>\n",
       "  </thead>\n",
       "  <tbody>\n",
       "    <tr>\n",
       "      <th>0</th>\n",
       "      <td>1999</td>\n",
       "      <td>201</td>\n",
       "      <td>2.0</td>\n",
       "      <td>0.0</td>\n",
       "      <td>0.0</td>\n",
       "      <td>NaN</td>\n",
       "      <td>0.0</td>\n",
       "      <td>2.0</td>\n",
       "      <td>73.0</td>\n",
       "      <td>0.0</td>\n",
       "      <td>11.0</td>\n",
       "      <td>NaN</td>\n",
       "      <td>NaN</td>\n",
       "    </tr>\n",
       "    <tr>\n",
       "      <th>1</th>\n",
       "      <td>2000</td>\n",
       "      <td>201</td>\n",
       "      <td>2.0</td>\n",
       "      <td>0.0</td>\n",
       "      <td>0.0</td>\n",
       "      <td>NaN</td>\n",
       "      <td>0.0</td>\n",
       "      <td>2.0</td>\n",
       "      <td>74.0</td>\n",
       "      <td>0.0</td>\n",
       "      <td>10.5</td>\n",
       "      <td>NaN</td>\n",
       "      <td>NaN</td>\n",
       "    </tr>\n",
       "    <tr>\n",
       "      <th>2</th>\n",
       "      <td>2001</td>\n",
       "      <td>201</td>\n",
       "      <td>NaN</td>\n",
       "      <td>0.0</td>\n",
       "      <td>0.0</td>\n",
       "      <td>NaN</td>\n",
       "      <td>0.0</td>\n",
       "      <td>2.0</td>\n",
       "      <td>75.0</td>\n",
       "      <td>0.0</td>\n",
       "      <td>10.5</td>\n",
       "      <td>NaN</td>\n",
       "      <td>NaN</td>\n",
       "    </tr>\n",
       "    <tr>\n",
       "      <th>3</th>\n",
       "      <td>2002</td>\n",
       "      <td>201</td>\n",
       "      <td>1.0</td>\n",
       "      <td>0.0</td>\n",
       "      <td>0.0</td>\n",
       "      <td>NaN</td>\n",
       "      <td>0.0</td>\n",
       "      <td>2.0</td>\n",
       "      <td>76.0</td>\n",
       "      <td>0.0</td>\n",
       "      <td>10.5</td>\n",
       "      <td>NaN</td>\n",
       "      <td>NaN</td>\n",
       "    </tr>\n",
       "    <tr>\n",
       "      <th>4</th>\n",
       "      <td>2003</td>\n",
       "      <td>201</td>\n",
       "      <td>2.0</td>\n",
       "      <td>0.0</td>\n",
       "      <td>0.0</td>\n",
       "      <td>NaN</td>\n",
       "      <td>0.0</td>\n",
       "      <td>2.0</td>\n",
       "      <td>77.0</td>\n",
       "      <td>0.0</td>\n",
       "      <td>10.5</td>\n",
       "      <td>NaN</td>\n",
       "      <td>NaN</td>\n",
       "    </tr>\n",
       "  </tbody>\n",
       "</table>\n",
       "</div>"
      ],
      "text/plain": [
       "   syear  pid  concern_rec  treated  unemployed2  income  manualwork  gender  \\\n",
       "0   1999  201          2.0      0.0          0.0     NaN         0.0     2.0   \n",
       "1   2000  201          2.0      0.0          0.0     NaN         0.0     2.0   \n",
       "2   2001  201          NaN      0.0          0.0     NaN         0.0     2.0   \n",
       "3   2002  201          1.0      0.0          0.0     NaN         0.0     2.0   \n",
       "4   2003  201          2.0      0.0          0.0     NaN         0.0     2.0   \n",
       "\n",
       "    age  temporary  educyears  skillsp  our  \n",
       "0  73.0        0.0       11.0      NaN  NaN  \n",
       "1  74.0        0.0       10.5      NaN  NaN  \n",
       "2  75.0        0.0       10.5      NaN  NaN  \n",
       "3  76.0        0.0       10.5      NaN  NaN  \n",
       "4  77.0        0.0       10.5      NaN  NaN  "
      ]
     },
     "execution_count": 9,
     "metadata": {},
     "output_type": "execute_result"
    }
   ],
   "source": [
    "df.head()"
   ]
  },
  {
   "cell_type": "code",
   "execution_count": 10,
   "id": "f8bf1670",
   "metadata": {},
   "outputs": [
    {
     "data": {
      "text/plain": [
       "syear\n",
       "1999     1374\n",
       "2000    12248\n",
       "2001     2119\n",
       "2002    12220\n",
       "2003     1700\n",
       "2004    11028\n",
       "2005     1453\n",
       "2006     2408\n",
       "2007    10419\n",
       "2008     1699\n",
       "2009    10289\n",
       "2010     1458\n",
       "2011    10294\n",
       "2012     2682\n",
       "2013     9619\n",
       "2014     2453\n",
       "dtype: int64"
      ]
     },
     "execution_count": 10,
     "metadata": {},
     "output_type": "execute_result"
    }
   ],
   "source": [
    "# Number of observations each year \n",
    "df.dropna().groupby(by='syear').size()"
   ]
  },
  {
   "cell_type": "code",
   "execution_count": 11,
   "id": "5cc9a702",
   "metadata": {},
   "outputs": [],
   "source": [
    "# Dataframe containing only the years 2003, 2004, and 2005 (i.e. treatment period)\n",
    "time_frame = df.loc[(df['syear'] == 2003) | (df['syear'] == 2004) | (df['syear'] == 2005)]"
   ]
  },
  {
   "cell_type": "code",
   "execution_count": 12,
   "id": "84c6e212",
   "metadata": {},
   "outputs": [
    {
     "name": "stdout",
     "output_type": "stream",
     "text": [
      "[2003 2004 2005]\n"
     ]
    }
   ],
   "source": [
    "# Verifying the above code\n",
    "print(time_frame['syear'].unique())"
   ]
  },
  {
   "cell_type": "code",
   "execution_count": 13,
   "id": "cf22241e",
   "metadata": {},
   "outputs": [],
   "source": [
    "# Sort by surveyee ID and survey year \n",
    "time_frame = time_frame.sort_values(by=['pid', 'syear'])"
   ]
  },
  {
   "cell_type": "code",
   "execution_count": 14,
   "id": "3b683bc3",
   "metadata": {},
   "outputs": [
    {
     "data": {
      "text/html": [
       "<div>\n",
       "<style scoped>\n",
       "    .dataframe tbody tr th:only-of-type {\n",
       "        vertical-align: middle;\n",
       "    }\n",
       "\n",
       "    .dataframe tbody tr th {\n",
       "        vertical-align: top;\n",
       "    }\n",
       "\n",
       "    .dataframe thead th {\n",
       "        text-align: right;\n",
       "    }\n",
       "</style>\n",
       "<table border=\"1\" class=\"dataframe\">\n",
       "  <thead>\n",
       "    <tr style=\"text-align: right;\">\n",
       "      <th></th>\n",
       "      <th>syear</th>\n",
       "      <th>pid</th>\n",
       "      <th>concern_rec</th>\n",
       "      <th>treated</th>\n",
       "      <th>unemployed2</th>\n",
       "      <th>income</th>\n",
       "      <th>manualwork</th>\n",
       "      <th>gender</th>\n",
       "      <th>age</th>\n",
       "      <th>temporary</th>\n",
       "      <th>educyears</th>\n",
       "      <th>skillsp</th>\n",
       "      <th>our</th>\n",
       "    </tr>\n",
       "  </thead>\n",
       "  <tbody>\n",
       "    <tr>\n",
       "      <th>4</th>\n",
       "      <td>2003</td>\n",
       "      <td>201</td>\n",
       "      <td>2.0</td>\n",
       "      <td>0.0</td>\n",
       "      <td>0.0</td>\n",
       "      <td>NaN</td>\n",
       "      <td>0.0</td>\n",
       "      <td>2.0</td>\n",
       "      <td>77.0</td>\n",
       "      <td>0.0</td>\n",
       "      <td>10.5</td>\n",
       "      <td>NaN</td>\n",
       "      <td>NaN</td>\n",
       "    </tr>\n",
       "    <tr>\n",
       "      <th>5</th>\n",
       "      <td>2004</td>\n",
       "      <td>201</td>\n",
       "      <td>3.0</td>\n",
       "      <td>0.0</td>\n",
       "      <td>0.0</td>\n",
       "      <td>NaN</td>\n",
       "      <td>0.0</td>\n",
       "      <td>2.0</td>\n",
       "      <td>78.0</td>\n",
       "      <td>0.0</td>\n",
       "      <td>10.5</td>\n",
       "      <td>NaN</td>\n",
       "      <td>NaN</td>\n",
       "    </tr>\n",
       "    <tr>\n",
       "      <th>6</th>\n",
       "      <td>2005</td>\n",
       "      <td>201</td>\n",
       "      <td>1.0</td>\n",
       "      <td>0.0</td>\n",
       "      <td>0.0</td>\n",
       "      <td>NaN</td>\n",
       "      <td>0.0</td>\n",
       "      <td>2.0</td>\n",
       "      <td>79.0</td>\n",
       "      <td>0.0</td>\n",
       "      <td>10.5</td>\n",
       "      <td>NaN</td>\n",
       "      <td>NaN</td>\n",
       "    </tr>\n",
       "    <tr>\n",
       "      <th>14</th>\n",
       "      <td>2003</td>\n",
       "      <td>203</td>\n",
       "      <td>2.0</td>\n",
       "      <td>0.0</td>\n",
       "      <td>0.0</td>\n",
       "      <td>4.0</td>\n",
       "      <td>0.0</td>\n",
       "      <td>1.0</td>\n",
       "      <td>43.0</td>\n",
       "      <td>0.0</td>\n",
       "      <td>18.0</td>\n",
       "      <td>NaN</td>\n",
       "      <td>NaN</td>\n",
       "    </tr>\n",
       "    <tr>\n",
       "      <th>15</th>\n",
       "      <td>2004</td>\n",
       "      <td>203</td>\n",
       "      <td>2.0</td>\n",
       "      <td>1.0</td>\n",
       "      <td>1.0</td>\n",
       "      <td>NaN</td>\n",
       "      <td>0.0</td>\n",
       "      <td>1.0</td>\n",
       "      <td>44.0</td>\n",
       "      <td>0.0</td>\n",
       "      <td>18.0</td>\n",
       "      <td>NaN</td>\n",
       "      <td>NaN</td>\n",
       "    </tr>\n",
       "  </tbody>\n",
       "</table>\n",
       "</div>"
      ],
      "text/plain": [
       "    syear  pid  concern_rec  treated  unemployed2  income  manualwork  gender  \\\n",
       "4    2003  201          2.0      0.0          0.0     NaN         0.0     2.0   \n",
       "5    2004  201          3.0      0.0          0.0     NaN         0.0     2.0   \n",
       "6    2005  201          1.0      0.0          0.0     NaN         0.0     2.0   \n",
       "14   2003  203          2.0      0.0          0.0     4.0         0.0     1.0   \n",
       "15   2004  203          2.0      1.0          1.0     NaN         0.0     1.0   \n",
       "\n",
       "     age  temporary  educyears  skillsp  our  \n",
       "4   77.0        0.0       10.5      NaN  NaN  \n",
       "5   78.0        0.0       10.5      NaN  NaN  \n",
       "6   79.0        0.0       10.5      NaN  NaN  \n",
       "14  43.0        0.0       18.0      NaN  NaN  \n",
       "15  44.0        0.0       18.0      NaN  NaN  "
      ]
     },
     "execution_count": 14,
     "metadata": {},
     "output_type": "execute_result"
    }
   ],
   "source": [
    "time_frame.head()"
   ]
  },
  {
   "cell_type": "code",
   "execution_count": 15,
   "id": "9bc6edb2",
   "metadata": {},
   "outputs": [],
   "source": [
    "# Find IDs of surveyees that were unemployed (treated) during 2003-2005 \n",
    "treated_id = list(time_frame.loc[time_frame['unemployed2'] == 1]['pid'].unique())"
   ]
  },
  {
   "cell_type": "code",
   "execution_count": 16,
   "id": "95dc8d61",
   "metadata": {},
   "outputs": [
    {
     "data": {
      "text/plain": [
       "True"
      ]
     },
     "execution_count": 16,
     "metadata": {},
     "output_type": "execute_result"
    }
   ],
   "source": [
    "# Verifying the above code \n",
    "(treated_id == list(df.loc[df['treated'] == 1]['pid'].unique()))"
   ]
  },
  {
   "cell_type": "code",
   "execution_count": 17,
   "id": "f872320d",
   "metadata": {},
   "outputs": [],
   "source": [
    "# Find IDs of surveyees that were employed all throughout 2003-2005 (control)\n",
    "control_2003 = list(time_frame.loc[(time_frame['unemployed2'] == 0) & (time_frame['syear'] == 2003)]['pid'].unique())\n",
    "control_2004 = list(time_frame.loc[(time_frame['unemployed2'] == 0) & (time_frame['syear'] == 2004)]['pid'].unique())\n",
    "control_2005 = list(time_frame.loc[(time_frame['unemployed2'] == 0) & (time_frame['syear'] == 2005)]['pid'].unique())"
   ]
  },
  {
   "cell_type": "code",
   "execution_count": 18,
   "id": "591a4218",
   "metadata": {},
   "outputs": [],
   "source": [
    "control_id = list(set(control_2003) & set(control_2004) & set(control_2005))"
   ]
  },
  {
   "cell_type": "code",
   "execution_count": 19,
   "id": "7ebc0867",
   "metadata": {},
   "outputs": [
    {
     "data": {
      "text/plain": [
       "False"
      ]
     },
     "execution_count": 19,
     "metadata": {},
     "output_type": "execute_result"
    }
   ],
   "source": [
    "# Treated and control groups are mutually exclusive \n",
    "bool(set(treated_id) & set(control_id))"
   ]
  },
  {
   "cell_type": "code",
   "execution_count": 20,
   "id": "94e59eaf",
   "metadata": {},
   "outputs": [],
   "source": [
    "# All IDs including both treated and control groups\n",
    "relevant_id = treated_id + control_id"
   ]
  },
  {
   "cell_type": "code",
   "execution_count": 21,
   "id": "1b7ab8d2",
   "metadata": {
    "scrolled": true
   },
   "outputs": [],
   "source": [
    "# 1 == male, 2 == female \n",
    "# Replace 2 with 0 to create 'male' dummy variable \n",
    "df['gender'] = df['gender'].replace(2, 0)"
   ]
  },
  {
   "cell_type": "code",
   "execution_count": 22,
   "id": "acbb8dfb",
   "metadata": {},
   "outputs": [],
   "source": [
    "# Slice dataframe with years 2002 and 2011\n",
    "\n",
    "# Before treatment = 2002 \n",
    "# After treatment = 2011\n",
    "\n",
    "df_2002 = df.loc[df['syear'] == 2002].dropna()\n",
    "df_2002 = df_2002.loc[df_2002['pid'].isin(relevant_id)]\n",
    "\n",
    "df_2011 = df.loc[df['syear'] == 2011].dropna()\n",
    "df_2011 = df_2011.loc[df_2011['pid'].isin(relevant_id)]"
   ]
  },
  {
   "cell_type": "code",
   "execution_count": 23,
   "id": "68cb5a89",
   "metadata": {},
   "outputs": [],
   "source": [
    "# Each year does not have the same number of surveyees/same surveyee IDs  \n",
    "syear_id = list(df_2002.loc[df_2002['pid'].isin(df_2011['pid'])]['pid'])"
   ]
  },
  {
   "cell_type": "code",
   "execution_count": 24,
   "id": "cdbcec69",
   "metadata": {},
   "outputs": [],
   "source": [
    "df = df.loc[(df['pid'].isin(syear_id)) & ((df['syear'] == 2002) | (df['syear'] == 2011))].reset_index(drop=True)"
   ]
  },
  {
   "cell_type": "code",
   "execution_count": 25,
   "id": "fc0bf22d",
   "metadata": {},
   "outputs": [],
   "source": [
    "df['treated'] = 0 \n",
    "df.loc[df['pid'].isin(treated_id), 'treated'] = 1"
   ]
  },
  {
   "cell_type": "code",
   "execution_count": 26,
   "id": "c420f564",
   "metadata": {},
   "outputs": [
    {
     "data": {
      "text/html": [
       "<div>\n",
       "<style scoped>\n",
       "    .dataframe tbody tr th:only-of-type {\n",
       "        vertical-align: middle;\n",
       "    }\n",
       "\n",
       "    .dataframe tbody tr th {\n",
       "        vertical-align: top;\n",
       "    }\n",
       "\n",
       "    .dataframe thead th {\n",
       "        text-align: right;\n",
       "    }\n",
       "</style>\n",
       "<table border=\"1\" class=\"dataframe\">\n",
       "  <thead>\n",
       "    <tr style=\"text-align: right;\">\n",
       "      <th></th>\n",
       "      <th>syear</th>\n",
       "      <th>pid</th>\n",
       "      <th>concern_rec</th>\n",
       "      <th>treated</th>\n",
       "      <th>unemployed2</th>\n",
       "      <th>income</th>\n",
       "      <th>manualwork</th>\n",
       "      <th>gender</th>\n",
       "      <th>age</th>\n",
       "      <th>temporary</th>\n",
       "      <th>educyears</th>\n",
       "      <th>skillsp</th>\n",
       "      <th>our</th>\n",
       "    </tr>\n",
       "  </thead>\n",
       "  <tbody>\n",
       "    <tr>\n",
       "      <th>0</th>\n",
       "      <td>2002</td>\n",
       "      <td>901</td>\n",
       "      <td>2.0</td>\n",
       "      <td>0</td>\n",
       "      <td>0.0</td>\n",
       "      <td>2.0</td>\n",
       "      <td>0.0</td>\n",
       "      <td>0.0</td>\n",
       "      <td>51.0</td>\n",
       "      <td>0.0</td>\n",
       "      <td>10.5</td>\n",
       "      <td>0.617639</td>\n",
       "      <td>9.205261</td>\n",
       "    </tr>\n",
       "    <tr>\n",
       "      <th>1</th>\n",
       "      <td>2011</td>\n",
       "      <td>901</td>\n",
       "      <td>2.0</td>\n",
       "      <td>0</td>\n",
       "      <td>0.0</td>\n",
       "      <td>3.0</td>\n",
       "      <td>0.0</td>\n",
       "      <td>0.0</td>\n",
       "      <td>60.0</td>\n",
       "      <td>0.0</td>\n",
       "      <td>10.5</td>\n",
       "      <td>0.490324</td>\n",
       "      <td>8.017141</td>\n",
       "    </tr>\n",
       "    <tr>\n",
       "      <th>2</th>\n",
       "      <td>2002</td>\n",
       "      <td>1501</td>\n",
       "      <td>1.0</td>\n",
       "      <td>0</td>\n",
       "      <td>0.0</td>\n",
       "      <td>3.0</td>\n",
       "      <td>0.0</td>\n",
       "      <td>1.0</td>\n",
       "      <td>44.0</td>\n",
       "      <td>0.0</td>\n",
       "      <td>18.0</td>\n",
       "      <td>0.719778</td>\n",
       "      <td>3.658580</td>\n",
       "    </tr>\n",
       "    <tr>\n",
       "      <th>3</th>\n",
       "      <td>2011</td>\n",
       "      <td>1501</td>\n",
       "      <td>1.0</td>\n",
       "      <td>0</td>\n",
       "      <td>0.0</td>\n",
       "      <td>5.0</td>\n",
       "      <td>0.0</td>\n",
       "      <td>1.0</td>\n",
       "      <td>53.0</td>\n",
       "      <td>0.0</td>\n",
       "      <td>18.0</td>\n",
       "      <td>0.708843</td>\n",
       "      <td>2.422332</td>\n",
       "    </tr>\n",
       "    <tr>\n",
       "      <th>4</th>\n",
       "      <td>2002</td>\n",
       "      <td>2301</td>\n",
       "      <td>2.0</td>\n",
       "      <td>0</td>\n",
       "      <td>0.0</td>\n",
       "      <td>5.0</td>\n",
       "      <td>0.0</td>\n",
       "      <td>1.0</td>\n",
       "      <td>56.0</td>\n",
       "      <td>0.0</td>\n",
       "      <td>18.0</td>\n",
       "      <td>0.719778</td>\n",
       "      <td>3.658580</td>\n",
       "    </tr>\n",
       "  </tbody>\n",
       "</table>\n",
       "</div>"
      ],
      "text/plain": [
       "   syear   pid  concern_rec  treated  unemployed2  income  manualwork  gender  \\\n",
       "0   2002   901          2.0        0          0.0     2.0         0.0     0.0   \n",
       "1   2011   901          2.0        0          0.0     3.0         0.0     0.0   \n",
       "2   2002  1501          1.0        0          0.0     3.0         0.0     1.0   \n",
       "3   2011  1501          1.0        0          0.0     5.0         0.0     1.0   \n",
       "4   2002  2301          2.0        0          0.0     5.0         0.0     1.0   \n",
       "\n",
       "    age  temporary  educyears   skillsp       our  \n",
       "0  51.0        0.0       10.5  0.617639  9.205261  \n",
       "1  60.0        0.0       10.5  0.490324  8.017141  \n",
       "2  44.0        0.0       18.0  0.719778  3.658580  \n",
       "3  53.0        0.0       18.0  0.708843  2.422332  \n",
       "4  56.0        0.0       18.0  0.719778  3.658580  "
      ]
     },
     "execution_count": 26,
     "metadata": {},
     "output_type": "execute_result"
    }
   ],
   "source": [
    "df.head()"
   ]
  },
  {
   "cell_type": "code",
   "execution_count": 27,
   "id": "5dc156a7",
   "metadata": {},
   "outputs": [
    {
     "data": {
      "text/html": [
       "<div>\n",
       "<style scoped>\n",
       "    .dataframe tbody tr th:only-of-type {\n",
       "        vertical-align: middle;\n",
       "    }\n",
       "\n",
       "    .dataframe tbody tr th {\n",
       "        vertical-align: top;\n",
       "    }\n",
       "\n",
       "    .dataframe thead th {\n",
       "        text-align: right;\n",
       "    }\n",
       "</style>\n",
       "<table border=\"1\" class=\"dataframe\">\n",
       "  <thead>\n",
       "    <tr style=\"text-align: right;\">\n",
       "      <th></th>\n",
       "      <th>syear</th>\n",
       "      <th>pid</th>\n",
       "      <th>concern_rec</th>\n",
       "      <th>treated</th>\n",
       "      <th>unemployed2</th>\n",
       "      <th>income</th>\n",
       "      <th>manualwork</th>\n",
       "      <th>gender</th>\n",
       "      <th>age</th>\n",
       "      <th>temporary</th>\n",
       "      <th>educyears</th>\n",
       "      <th>skillsp</th>\n",
       "      <th>our</th>\n",
       "    </tr>\n",
       "  </thead>\n",
       "  <tbody>\n",
       "    <tr>\n",
       "      <th>9091</th>\n",
       "      <td>2011</td>\n",
       "      <td>8249801</td>\n",
       "      <td>1.0</td>\n",
       "      <td>0</td>\n",
       "      <td>0.0</td>\n",
       "      <td>4.0</td>\n",
       "      <td>0.0</td>\n",
       "      <td>1.0</td>\n",
       "      <td>55.0</td>\n",
       "      <td>0.0</td>\n",
       "      <td>18.0</td>\n",
       "      <td>0.708843</td>\n",
       "      <td>2.422332</td>\n",
       "    </tr>\n",
       "    <tr>\n",
       "      <th>9092</th>\n",
       "      <td>2002</td>\n",
       "      <td>8249802</td>\n",
       "      <td>2.0</td>\n",
       "      <td>0</td>\n",
       "      <td>0.0</td>\n",
       "      <td>4.0</td>\n",
       "      <td>0.0</td>\n",
       "      <td>0.0</td>\n",
       "      <td>43.0</td>\n",
       "      <td>0.0</td>\n",
       "      <td>17.0</td>\n",
       "      <td>0.719778</td>\n",
       "      <td>3.658580</td>\n",
       "    </tr>\n",
       "    <tr>\n",
       "      <th>9093</th>\n",
       "      <td>2011</td>\n",
       "      <td>8249802</td>\n",
       "      <td>1.0</td>\n",
       "      <td>0</td>\n",
       "      <td>0.0</td>\n",
       "      <td>5.0</td>\n",
       "      <td>0.0</td>\n",
       "      <td>0.0</td>\n",
       "      <td>52.0</td>\n",
       "      <td>0.0</td>\n",
       "      <td>18.0</td>\n",
       "      <td>0.708843</td>\n",
       "      <td>2.422332</td>\n",
       "    </tr>\n",
       "    <tr>\n",
       "      <th>9094</th>\n",
       "      <td>2002</td>\n",
       "      <td>8249803</td>\n",
       "      <td>1.0</td>\n",
       "      <td>0</td>\n",
       "      <td>0.0</td>\n",
       "      <td>1.0</td>\n",
       "      <td>0.0</td>\n",
       "      <td>1.0</td>\n",
       "      <td>21.0</td>\n",
       "      <td>1.0</td>\n",
       "      <td>13.0</td>\n",
       "      <td>3.047472</td>\n",
       "      <td>11.855548</td>\n",
       "    </tr>\n",
       "    <tr>\n",
       "      <th>9095</th>\n",
       "      <td>2011</td>\n",
       "      <td>8249803</td>\n",
       "      <td>1.0</td>\n",
       "      <td>0</td>\n",
       "      <td>0.0</td>\n",
       "      <td>2.0</td>\n",
       "      <td>0.0</td>\n",
       "      <td>1.0</td>\n",
       "      <td>30.0</td>\n",
       "      <td>1.0</td>\n",
       "      <td>18.0</td>\n",
       "      <td>0.708843</td>\n",
       "      <td>2.422332</td>\n",
       "    </tr>\n",
       "  </tbody>\n",
       "</table>\n",
       "</div>"
      ],
      "text/plain": [
       "      syear      pid  concern_rec  treated  unemployed2  income  manualwork  \\\n",
       "9091   2011  8249801          1.0        0          0.0     4.0         0.0   \n",
       "9092   2002  8249802          2.0        0          0.0     4.0         0.0   \n",
       "9093   2011  8249802          1.0        0          0.0     5.0         0.0   \n",
       "9094   2002  8249803          1.0        0          0.0     1.0         0.0   \n",
       "9095   2011  8249803          1.0        0          0.0     2.0         0.0   \n",
       "\n",
       "      gender   age  temporary  educyears   skillsp        our  \n",
       "9091     1.0  55.0        0.0       18.0  0.708843   2.422332  \n",
       "9092     0.0  43.0        0.0       17.0  0.719778   3.658580  \n",
       "9093     0.0  52.0        0.0       18.0  0.708843   2.422332  \n",
       "9094     1.0  21.0        1.0       13.0  3.047472  11.855548  \n",
       "9095     1.0  30.0        1.0       18.0  0.708843   2.422332  "
      ]
     },
     "execution_count": 27,
     "metadata": {},
     "output_type": "execute_result"
    }
   ],
   "source": [
    "df.tail()"
   ]
  },
  {
   "cell_type": "code",
   "execution_count": 28,
   "id": "74359712",
   "metadata": {},
   "outputs": [
    {
     "data": {
      "text/plain": [
       "(9096, 13)"
      ]
     },
     "execution_count": 28,
     "metadata": {},
     "output_type": "execute_result"
    }
   ],
   "source": [
    "df.shape"
   ]
  },
  {
   "cell_type": "markdown",
   "id": "7da34a13",
   "metadata": {},
   "source": [
    "# Parallel Trends"
   ]
  },
  {
   "cell_type": "code",
   "execution_count": 29,
   "id": "e836b38a",
   "metadata": {},
   "outputs": [],
   "source": [
    "trends_df = pd.read_stata('gsp_data_final.dta')"
   ]
  },
  {
   "cell_type": "code",
   "execution_count": 30,
   "id": "a3325ec0",
   "metadata": {},
   "outputs": [],
   "source": [
    "trends_id = list(trends_df.loc[trends_df['unemployed2'] == 1]['pid'].unique())"
   ]
  },
  {
   "cell_type": "code",
   "execution_count": 31,
   "id": "4d219cca",
   "metadata": {},
   "outputs": [],
   "source": [
    "trends_df = trends_df.groupby(by=['syear', 'unemployed2'])[['dv', 'concern_rec']].mean()"
   ]
  },
  {
   "cell_type": "code",
   "execution_count": 32,
   "id": "c602306a",
   "metadata": {},
   "outputs": [],
   "source": [
    "trends_0 = trends_df.loc[trends_df.index.get_level_values('unemployed2') == 0].reset_index(level=[0,1])\n",
    "trends_1 = trends_df.loc[trends_df.index.get_level_values('unemployed2') == 1].reset_index(level=[0,1])"
   ]
  },
  {
   "cell_type": "code",
   "execution_count": 33,
   "id": "843c12e5",
   "metadata": {},
   "outputs": [
    {
     "data": {
      "image/png": "[encoded data removed]",
      "text/plain": [
       "<Figure size 720x504 with 1 Axes>"
      ]
     },
     "metadata": {},
     "output_type": "display_data"
    }
   ],
   "source": [
    "plt.style.use('ggplot')\n",
    "plt.figure(figsize=(10, 7))\n",
    "plt.plot(trends_0['syear'][0:5], trends_0['dv'][0:5], label='Untreated')\n",
    "plt.plot(trends_1['syear'][0:5], trends_1['dv'][0:5], label='Treated')\n",
    "plt.xticks(np.arange(1999, 2004, 1, dtype=int))\n",
    "plt.title('Parallel Trends Assumption: Recoded DV', fontsize=20)\n",
    "plt.ylabel('Immigration Concern', fontsize=15)\n",
    "plt.xlabel('Year', fontsize=15)\n",
    "plt.legend(loc=(0.76, 0.79), prop={'size' : 13}, frameon=False)\n",
    "plt.show()"
   ]
  },
  {
   "cell_type": "code",
   "execution_count": 34,
   "id": "9a6b3f1f",
   "metadata": {},
   "outputs": [
    {
     "data": {
      "image/png": "[encoded data removed]",
      "text/plain": [
       "<Figure size 720x504 with 1 Axes>"
      ]
     },
     "metadata": {},
     "output_type": "display_data"
    }
   ],
   "source": [
    "plt.figure(figsize=(10, 7))\n",
    "plt.plot(trends_0['syear'][0:5], trends_0['concern_rec'][0:5], label='Untreated')\n",
    "plt.plot(trends_1['syear'][0:5], trends_1['concern_rec'][0:5], label='Treated')\n",
    "plt.xticks(np.arange(1999, 2004, 1, dtype=int))\n",
    "plt.title('Parallel Trends Assumption: Original DV', fontsize=20)\n",
    "plt.ylabel('Immigration Concern', fontsize=15)\n",
    "plt.xlabel('Year', fontsize=15)\n",
    "plt.legend(loc=(0.76, 0.79), prop={'size' : 13}, frameon=False)\n",
    "plt.show()"
   ]
  },
  {
   "cell_type": "markdown",
   "id": "4808f63a",
   "metadata": {},
   "source": [
    "# DMLDiD Estimator"
   ]
  },
  {
   "cell_type": "code",
   "execution_count": 35,
   "id": "d4bdf9ce",
   "metadata": {},
   "outputs": [],
   "source": [
    "def DMLDiD(Y_1, Y_0, D, X, g_ML, mu_ML):\n",
    "    \n",
    "    Y_1 = Y_1.reshape(-1, 1) # Reshape arrays to 2D \n",
    "    Y_0 = Y_0.reshape(-1, 1) # \"\"\n",
    "    D = D.reshape(-1, 1)     # \"\"\n",
    "    \n",
    "    df = np.concatenate((Y_1, Y_0, D, X), axis=1) # Combine everything into one 2D array \n",
    "    \n",
    "    np.random.seed(123) # Set seed for replicability\n",
    "    np.random.shuffle(df) # Shuffle data \n",
    "    \n",
    "    K = 2 # Number of folds for cross-fitting \n",
    "    N = Y_1.shape[0] # Number of individuals (observations)\n",
    "    n = round(df.shape[0] / K) # Number of approx observations for each fold\n",
    "    \n",
    "    df_I_k = [df[:n, :], df[n:, :]] # List of partions/folds\n",
    "    \n",
    "    att_I_k, var_I_k = [], [] # Empty lists to hold results for each fold \n",
    "    \n",
    "    for df_k in df_I_k: # For each fold calculate DMLDiD \n",
    "        D, X = df_k[:, 2], df_k[:, 3:]\n",
    "        \n",
    "        p_hat = np.mean(D)\n",
    "        \n",
    "        prop_score = g_ML.fit(X, D)\n",
    "        g_hat = prop_score.predict_proba(X)[:, 1]\n",
    "        \n",
    "        df_mu = df_k[np.where(df_k[:, 2] == 0)]\n",
    "        \n",
    "        Y_1_mu, Y_0_mu, X_mu = df_mu[:, 0], df_mu[:, 1], df_mu[:, 3:]\n",
    "      \n",
    "        cond_mean = mu_ML.fit(X_mu, Y_1_mu - Y_0_mu)\n",
    "        mu_hat = cond_mean.predict(X)\n",
    "        \n",
    "        Y_1, Y_0 = df_k[:, 0], df_k[:, 1]\n",
    "    \n",
    "        t0 = ((Y_1 - Y_0) / p_hat) * ((D - g_hat) / (1 - g_hat))\n",
    "        \n",
    "        c1 = ((D - g_hat) / (p_hat * (1 - g_hat))) * mu_hat\n",
    "        \n",
    "        att_k = np.mean(t0 - c1)\n",
    "        \n",
    "        att_I_k.append(att_k)\n",
    "    \n",
    "    theta = np.mean(att_I_k)\n",
    "    \n",
    "    for df_k in df_I_k: # For each fold calculate variance\n",
    "        D, X = df_k[:, 2], df_k[:, 3:]\n",
    "        \n",
    "        p_hat = np.mean(D)\n",
    "        \n",
    "        prop_score = g_ML.fit(X, D)\n",
    "        g_hat = prop_score.predict_proba(X)[:, 1]\n",
    "        \n",
    "        df_mu = df_k[np.where(df_k[:, 2] == 0)]\n",
    "        \n",
    "        Y_1_mu, Y_0_mu, X_mu = df_mu[:, 0], df_mu[:, 1], df_mu[:, 3:]\n",
    "        \n",
    "        cond_mean = mu_ML.fit(X_mu, Y_1_mu - Y_0_mu)\n",
    "        mu_hat = cond_mean.predict(X)\n",
    "        \n",
    "        Y_1, Y_0 = df_k[:, 0], df_k[:, 1]\n",
    "    \n",
    "        psi = (((Y_1 - Y_0) / p_hat) * ((D - g_hat) / (1 - g_hat))) - theta\n",
    "        psi = psi - (((D - g_hat) / (p_hat * (1 - g_hat))) * mu_hat)\n",
    "\n",
    "        G = (-1 * theta) / p_hat\n",
    "    \n",
    "        var_k = np.mean((psi + (G * (D - p_hat))) ** 2)\n",
    "        \n",
    "        var_I_k.append(var_k)\n",
    "        \n",
    "    sigma = np.mean(var_I_k)\n",
    "    \n",
    "    return theta, np.sqrt(sigma / N)"
   ]
  },
  {
   "cell_type": "markdown",
   "id": "0e587aee",
   "metadata": {},
   "source": [
    "# Belloni-Chen-Chernozhukov-Hansen Rule"
   ]
  },
  {
   "cell_type": "code",
   "execution_count": 36,
   "id": "673153dc",
   "metadata": {},
   "outputs": [],
   "source": [
    "def bcch_rule(X, Y, c, alpha):\n",
    "    Y = np.array(Y).reshape(-1, 1)\n",
    "    X = np.array(X)\n",
    "    \n",
    "    n, p = len(Y), X.shape[1]\n",
    "    \n",
    "    max_pilot = np.max(np.mean((X ** 2) * (Y ** 2), axis=0)) ** 0.5\n",
    "    lambda_pilot = ((2 * c) / np.sqrt(n)) * norm.ppf(1 - (alpha / (2 * p))) * max_pilot\n",
    "    \n",
    "    lasso_pilot = Lasso(alpha=lambda_pilot, fit_intercept=False).fit(X, Y)\n",
    "    \n",
    "    residuals = Y - lasso_pilot.predict(X).reshape(-1, 1)\n",
    "    \n",
    "    max_bcch = np.max(np.mean((X ** 2) * (residuals ** 2), axis=0)) ** 0.5\n",
    "    lambda_bcch = ((2 * c) / np.sqrt(n)) * norm.ppf(1 - (alpha / (2 * p))) * max_bcch\n",
    "    \n",
    "    return lambda_bcch"
   ]
  },
  {
   "cell_type": "markdown",
   "id": "5373b6ca",
   "metadata": {},
   "source": [
    "# Setting up data for DMLDiD estimation"
   ]
  },
  {
   "cell_type": "code",
   "execution_count": 37,
   "id": "664c0d0a",
   "metadata": {},
   "outputs": [],
   "source": [
    "D = np.array(df.loc[df['syear'] == 2002, 'treated'])"
   ]
  },
  {
   "cell_type": "code",
   "execution_count": 38,
   "id": "64bcd9c4",
   "metadata": {},
   "outputs": [
    {
     "data": {
      "text/plain": [
       "0.08003518029903255"
      ]
     },
     "execution_count": 38,
     "metadata": {},
     "output_type": "execute_result"
    }
   ],
   "source": [
    "np.mean(D)"
   ]
  },
  {
   "cell_type": "code",
   "execution_count": 39,
   "id": "6b367b17",
   "metadata": {},
   "outputs": [],
   "source": [
    "X = np.array(df.loc[df['syear'] == 2002, ['income', 'manualwork', 'gender', 'age', \n",
    "                                          'temporary', 'educyears', 'skillsp', 'our']])"
   ]
  },
  {
   "cell_type": "code",
   "execution_count": 40,
   "id": "4a21c267",
   "metadata": {},
   "outputs": [],
   "source": [
    "X_scaled = np.hstack((X[:, [1, 2, 4]], StandardScaler().fit_transform(X[:, [0, 3, 5, 6, 7]])))"
   ]
  },
  {
   "cell_type": "code",
   "execution_count": 41,
   "id": "c290d331",
   "metadata": {},
   "outputs": [],
   "source": [
    "Y_0 = np.array(df.loc[df['syear'] == 2002, 'concern_rec'])\n",
    "Y_1 = np.array(df.loc[df['syear'] == 2011, 'concern_rec'])"
   ]
  },
  {
   "cell_type": "code",
   "execution_count": 42,
   "id": "db3ed540",
   "metadata": {},
   "outputs": [],
   "source": [
    "df = np.concatenate((Y_1.reshape(-1, 1), Y_0.reshape(-1, 1), D.reshape(-1, 1), X), axis=1)"
   ]
  },
  {
   "cell_type": "code",
   "execution_count": 43,
   "id": "7add597d",
   "metadata": {},
   "outputs": [],
   "source": [
    "X_mu = df[np.where(df[:, 2] == 0)][:, 3:]"
   ]
  },
  {
   "cell_type": "code",
   "execution_count": 44,
   "id": "22543af6",
   "metadata": {},
   "outputs": [],
   "source": [
    "df_scaled = np.concatenate((Y_1.reshape(-1, 1), Y_0.reshape(-1, 1), D.reshape(-1, 1), X_scaled), axis=1)"
   ]
  },
  {
   "cell_type": "code",
   "execution_count": 45,
   "id": "00f0ae03",
   "metadata": {},
   "outputs": [],
   "source": [
    "X_mu_scaled = df_scaled[np.where(df_scaled[:, 2] == 0)][:, 3:]"
   ]
  },
  {
   "cell_type": "code",
   "execution_count": 46,
   "id": "86846819",
   "metadata": {},
   "outputs": [],
   "source": [
    "Y_0_mu = df[np.where(df[:, 2] == 0)][:, 1]\n",
    "Y_1_mu = df[np.where(df[:, 2] == 0)][:, 0]"
   ]
  },
  {
   "cell_type": "markdown",
   "id": "e252d9d0",
   "metadata": {},
   "source": [
    "# DMLDiD Estimation "
   ]
  },
  {
   "cell_type": "markdown",
   "id": "1747ec63",
   "metadata": {},
   "source": [
    "## Random Forest "
   ]
  },
  {
   "cell_type": "code",
   "execution_count": 47,
   "id": "96cabfdb",
   "metadata": {},
   "outputs": [],
   "source": [
    "p_max = X.shape[1]\n",
    "params = {'max_depth'    : np.linspace(1, 10, 10, dtype=int),\n",
    "          'max_features' : np.linspace(1, p_max, int(p_max), dtype=int)}"
   ]
  },
  {
   "cell_type": "code",
   "execution_count": 48,
   "id": "c25077d4",
   "metadata": {},
   "outputs": [],
   "source": [
    "rf_cv_clf = GridSearchCV(estimator=RandomForestClassifier(random_state=0),\n",
    "                         param_grid=params, scoring='neg_log_loss', cv=2).fit(X, D)"
   ]
  },
  {
   "cell_type": "code",
   "execution_count": 49,
   "id": "ff4bc8f0",
   "metadata": {},
   "outputs": [
    {
     "data": {
      "text/plain": [
       "{'max_depth': 5, 'max_features': 3}"
      ]
     },
     "execution_count": 49,
     "metadata": {},
     "output_type": "execute_result"
    }
   ],
   "source": [
    "rf_cv_clf.best_params_"
   ]
  },
  {
   "cell_type": "code",
   "execution_count": 50,
   "id": "5b5bbbaf",
   "metadata": {},
   "outputs": [],
   "source": [
    "rf_cv_reg = GridSearchCV(estimator=RandomForestRegressor(random_state=0),\n",
    "                         param_grid=params, scoring='neg_mean_squared_error', cv=2).fit(X_mu, Y_1_mu - Y_0_mu)"
   ]
  },
  {
   "cell_type": "code",
   "execution_count": 51,
   "id": "f2637dc0",
   "metadata": {},
   "outputs": [
    {
     "data": {
      "text/plain": [
       "{'max_depth': 2, 'max_features': 3}"
      ]
     },
     "execution_count": 51,
     "metadata": {},
     "output_type": "execute_result"
    }
   ],
   "source": [
    "rf_cv_reg.best_params_"
   ]
  },
  {
   "cell_type": "code",
   "execution_count": 52,
   "id": "8bebb137",
   "metadata": {},
   "outputs": [],
   "source": [
    "md_cv_clf = rf_cv_clf.best_params_['max_depth'] \n",
    "mf_cv_clf = rf_cv_clf.best_params_['max_features']"
   ]
  },
  {
   "cell_type": "code",
   "execution_count": 53,
   "id": "9b379696",
   "metadata": {},
   "outputs": [],
   "source": [
    "md_cv_reg = rf_cv_reg.best_params_['max_depth']\n",
    "mf_cv_reg = rf_cv_reg.best_params_['max_features']"
   ]
  },
  {
   "cell_type": "code",
   "execution_count": 54,
   "id": "13650dee",
   "metadata": {},
   "outputs": [],
   "source": [
    "g_ML = RandomForestClassifier(random_state=0, \n",
    "                              max_depth=md_cv_clf, \n",
    "                              max_features=mf_cv_clf)"
   ]
  },
  {
   "cell_type": "code",
   "execution_count": 55,
   "id": "559f04b9",
   "metadata": {},
   "outputs": [],
   "source": [
    "mu_ML = RandomForestRegressor(random_state=0, \n",
    "                              max_depth=md_cv_reg,\n",
    "                              max_features=mf_cv_reg)"
   ]
  },
  {
   "cell_type": "code",
   "execution_count": 56,
   "id": "20d8bbda",
   "metadata": {},
   "outputs": [
    {
     "data": {
      "text/plain": [
       "(-0.019381360393685418, 0.04497076628111012)"
      ]
     },
     "execution_count": 56,
     "metadata": {},
     "output_type": "execute_result"
    }
   ],
   "source": [
    "DMLDiD(Y_1, Y_0, D, X, g_ML, mu_ML)"
   ]
  },
  {
   "cell_type": "markdown",
   "id": "c3064554",
   "metadata": {},
   "source": [
    "## Logit-L1 & LASSO"
   ]
  },
  {
   "cell_type": "code",
   "execution_count": 57,
   "id": "836d5a84",
   "metadata": {},
   "outputs": [],
   "source": [
    "params = {'C' : [0.0001, 0.0005, 0.001, 0.005, 0.01, 0.05, 0.1, 0.5, 1, 5, 10]}"
   ]
  },
  {
   "cell_type": "code",
   "execution_count": 58,
   "id": "73114511",
   "metadata": {},
   "outputs": [],
   "source": [
    "logit_cv = GridSearchCV(estimator=LogisticRegression(random_state=0, penalty='l1', solver='saga', max_iter=10000),\n",
    "                        param_grid=params, scoring='neg_log_loss', cv=2).fit(X_scaled, D)"
   ]
  },
  {
   "cell_type": "code",
   "execution_count": 59,
   "id": "02631bef",
   "metadata": {},
   "outputs": [
    {
     "data": {
      "text/plain": [
       "{'C': 0.5}"
      ]
     },
     "execution_count": 59,
     "metadata": {},
     "output_type": "execute_result"
    }
   ],
   "source": [
    "logit_cv.best_params_"
   ]
  },
  {
   "cell_type": "code",
   "execution_count": 60,
   "id": "e7cc8fb6",
   "metadata": {},
   "outputs": [],
   "source": [
    "C_cv = logit_cv.best_params_['C']"
   ]
  },
  {
   "cell_type": "code",
   "execution_count": 61,
   "id": "004d054d",
   "metadata": {},
   "outputs": [],
   "source": [
    "g_ML = LogisticRegression(random_state=0, penalty='l1', solver='saga', C=C_cv, max_iter=10000)"
   ]
  },
  {
   "cell_type": "code",
   "execution_count": 62,
   "id": "c708cfbd",
   "metadata": {},
   "outputs": [],
   "source": [
    "c, alpha = 1.1, 0.05"
   ]
  },
  {
   "cell_type": "code",
   "execution_count": 63,
   "id": "4dd09ead",
   "metadata": {},
   "outputs": [],
   "source": [
    "hyp = bcch_rule(X_mu_scaled, Y_1_mu - Y_0_mu, c, alpha)"
   ]
  },
  {
   "cell_type": "code",
   "execution_count": 64,
   "id": "55b04620",
   "metadata": {},
   "outputs": [
    {
     "data": {
      "text/plain": [
       "0.07634254140794522"
      ]
     },
     "execution_count": 64,
     "metadata": {},
     "output_type": "execute_result"
    }
   ],
   "source": [
    "hyp "
   ]
  },
  {
   "cell_type": "code",
   "execution_count": 65,
   "id": "dd8c4bdf",
   "metadata": {},
   "outputs": [],
   "source": [
    "mu_ML = Lasso(random_state=0, alpha=hyp)"
   ]
  },
  {
   "cell_type": "code",
   "execution_count": 66,
   "id": "98742b16",
   "metadata": {},
   "outputs": [
    {
     "data": {
      "text/plain": [
       "(-0.018058187863270844, 0.046235710448472106)"
      ]
     },
     "execution_count": 66,
     "metadata": {},
     "output_type": "execute_result"
    }
   ],
   "source": [
    "DMLDiD(Y_1, Y_0, D, X, g_ML, mu_ML)"
   ]
  },
  {
   "cell_type": "markdown",
   "id": "254cd97d",
   "metadata": {},
   "source": [
    "## Gradient Boosting"
   ]
  },
  {
   "cell_type": "code",
   "execution_count": 67,
   "id": "e54837bb",
   "metadata": {},
   "outputs": [],
   "source": [
    "params = {'max_depth'     : [1, 2, 3], \n",
    "          'learning_rate' : [0.0001, 0.001, 0.01, 0.1, 1],\n",
    "          'n_estimators'  : [100, 200, 300, 400, 500],\n",
    "          'max_features'  : [3, 4, 5, 6, 7, 8]}"
   ]
  },
  {
   "cell_type": "code",
   "execution_count": 68,
   "id": "252ef604",
   "metadata": {},
   "outputs": [],
   "source": [
    "gb_cv_clf = GridSearchCV(estimator=GradientBoostingClassifier(random_state=0),\n",
    "                         param_grid=params, scoring='neg_log_loss', cv=2).fit(X, D)"
   ]
  },
  {
   "cell_type": "code",
   "execution_count": 69,
   "id": "cf306c20",
   "metadata": {},
   "outputs": [
    {
     "data": {
      "text/plain": [
       "{'learning_rate': 0.1, 'max_depth': 1, 'max_features': 3, 'n_estimators': 100}"
      ]
     },
     "execution_count": 69,
     "metadata": {},
     "output_type": "execute_result"
    }
   ],
   "source": [
    "gb_cv_clf.best_params_"
   ]
  },
  {
   "cell_type": "code",
   "execution_count": 70,
   "id": "b78c38bb",
   "metadata": {},
   "outputs": [],
   "source": [
    "gb_cv_reg = GridSearchCV(estimator=GradientBoostingRegressor(random_state=0),\n",
    "                         param_grid=params, scoring='neg_mean_squared_error', cv=2).fit(X_mu, Y_1_mu - Y_0_mu)"
   ]
  },
  {
   "cell_type": "code",
   "execution_count": 71,
   "id": "2693ac71",
   "metadata": {},
   "outputs": [
    {
     "data": {
      "text/plain": [
       "{'learning_rate': 0.1, 'max_depth': 1, 'max_features': 3, 'n_estimators': 100}"
      ]
     },
     "execution_count": 71,
     "metadata": {},
     "output_type": "execute_result"
    }
   ],
   "source": [
    "gb_cv_reg.best_params_"
   ]
  },
  {
   "cell_type": "code",
   "execution_count": 72,
   "id": "303bac44",
   "metadata": {},
   "outputs": [],
   "source": [
    "md_cv_clf = gb_cv_clf.best_params_['max_depth'] \n",
    "lr_cv_clf = gb_cv_clf.best_params_['learning_rate'] \n",
    "ne_cv_clf = gb_cv_clf.best_params_['n_estimators']\n",
    "mf_cv_clf = gb_cv_clf.best_params_['max_features'] "
   ]
  },
  {
   "cell_type": "code",
   "execution_count": 73,
   "id": "a99d5faf",
   "metadata": {},
   "outputs": [],
   "source": [
    "md_cv_reg = gb_cv_reg.best_params_['max_depth'] \n",
    "lr_cv_reg = gb_cv_reg.best_params_['learning_rate']\n",
    "ne_cv_reg = gb_cv_reg.best_params_['n_estimators']\n",
    "mf_cv_reg = gb_cv_reg.best_params_['max_features'] "
   ]
  },
  {
   "cell_type": "code",
   "execution_count": 74,
   "id": "625b8bad",
   "metadata": {},
   "outputs": [],
   "source": [
    "g_ML = GradientBoostingClassifier(random_state=0,\n",
    "                                  max_depth=md_cv_clf,\n",
    "                                  learning_rate=lr_cv_clf,\n",
    "                                  n_estimators=ne_cv_clf, \n",
    "                                  max_features=mf_cv_clf)"
   ]
  },
  {
   "cell_type": "code",
   "execution_count": 75,
   "id": "1767fcb6",
   "metadata": {},
   "outputs": [],
   "source": [
    "mu_ML = GradientBoostingRegressor(random_state=0,\n",
    "                                  max_depth=md_cv_reg, \n",
    "                                  learning_rate=lr_cv_reg,\n",
    "                                  n_estimators=ne_cv_reg, \n",
    "                                  max_features=mf_cv_reg)"
   ]
  },
  {
   "cell_type": "code",
   "execution_count": 76,
   "id": "d38f13bc",
   "metadata": {},
   "outputs": [
    {
     "data": {
      "text/plain": [
       "(-0.010925395993200398, 0.04582410113156102)"
      ]
     },
     "execution_count": 76,
     "metadata": {},
     "output_type": "execute_result"
    }
   ],
   "source": [
    "DMLDiD(Y_1, Y_0, D, X, g_ML, mu_ML)"
   ]
  },
  {
   "cell_type": "markdown",
   "id": "f1edb154",
   "metadata": {},
   "source": [
    "## Neural Networks "
   ]
  },
  {
   "cell_type": "code",
   "execution_count": 77,
   "id": "dbea119b",
   "metadata": {},
   "outputs": [],
   "source": [
    "def DMLDiD_TF(Y_1, Y_0, D, X, g_ML, mu_ML):\n",
    "    \n",
    "    # Same function as DMLDiD() but for TensorFlow \n",
    "    \n",
    "    Y_1 = Y_1.reshape(-1, 1) # Reshape arrays to 2D \n",
    "    Y_0 = Y_0.reshape(-1, 1) # \"\"\n",
    "    D = D.reshape(-1, 1)     # \"\"\n",
    "    \n",
    "    df = np.concatenate((Y_1, Y_0, D, X), axis=1) # Combine everything into one 2D array \n",
    "    \n",
    "    np.random.seed(123) # Set seed for replicability\n",
    "    tf.random.set_seed(123)\n",
    "    \n",
    "    np.random.shuffle(df) # Shuffle data \n",
    "    \n",
    "    K = 2 # Number of folds for cross-fitting \n",
    "    N = Y_1.shape[0] # Number of individuals (observations)\n",
    "    n = round(df.shape[0] / K) # Number of approx observations for each fold\n",
    "    \n",
    "    df_I_k = [df[:n, :], df[n:, :]] # List of partions/folds\n",
    "    \n",
    "    att_I_k, var_I_k = [], [] # Empty lists to hold results for each fold \n",
    "    \n",
    "    for df_k in df_I_k: # For each fold calculate DMLDiD \n",
    "        D, X = df_k[:, 2], df_k[:, 3:]\n",
    "        \n",
    "        p_hat = np.mean(D)\n",
    "        \n",
    "        prop_score = g_ML.fit(X, D, verbose=0, batch_size=32, epochs=20, validation_split=0.3)\n",
    "        g_hat = prop_score.model.predict(X).reshape(-1, )\n",
    "        \n",
    "        df_mu = df_k[np.where(df_k[:, 2] == 0)]\n",
    "        \n",
    "        Y_1_mu, Y_0_mu, X_mu = df_mu[:, 0], df_mu[:, 1], df_mu[:, 3:]\n",
    "      \n",
    "        cond_mean = mu_ML.fit(X_mu, Y_1_mu - Y_0_mu, verbose=0, \n",
    "                              batch_size=32, epochs=20, validation_split=0.3)\n",
    "        mu_hat = cond_mean.model.predict(X).reshape(-1, )\n",
    "        \n",
    "        Y_1, Y_0 = df_k[:, 0], df_k[:, 1]\n",
    "    \n",
    "        t0 = ((Y_1 - Y_0) / p_hat) * ((D - g_hat) / (1 - g_hat))\n",
    "        \n",
    "        c1 = ((D - g_hat) / (p_hat * (1 - g_hat))) * mu_hat\n",
    "        \n",
    "        att_k = np.mean(t0 - c1)\n",
    "        \n",
    "        att_I_k.append(att_k)\n",
    "    \n",
    "    theta = np.mean(att_I_k)\n",
    "    \n",
    "    for df_k in df_I_k: # For each fold calculate variance\n",
    "        D, X = df_k[:, 2], df_k[:, 3:]\n",
    "        \n",
    "        p_hat = np.mean(D)\n",
    "        \n",
    "        prop_score = g_ML.fit(X, D, verbose=0, batch_size=32, epochs=20, validation_split=0.3)\n",
    "        g_hat = prop_score.model.predict(X).reshape(-1, )\n",
    "        \n",
    "        df_mu = df_k[np.where(df_k[:, 2] == 0)]\n",
    "        \n",
    "        Y_1_mu, Y_0_mu, X_mu = df_mu[:, 0], df_mu[:, 1], df_mu[:, 3:]\n",
    "        \n",
    "        cond_mean = mu_ML.fit(X_mu, Y_1_mu - Y_0_mu, verbose=0, \n",
    "                              batch_size=32, epochs=20, validation_split=0.3)\n",
    "        mu_hat = cond_mean.model.predict(X).reshape(-1, )\n",
    "        \n",
    "        Y_1, Y_0 = df_k[:, 0], df_k[:, 1]\n",
    "    \n",
    "        psi = (((Y_1 - Y_0) / p_hat) * ((D - g_hat) / (1 - g_hat))) - theta\n",
    "        psi = psi - (((D - g_hat) / (p_hat * (1 - g_hat))) * mu_hat)\n",
    "\n",
    "        G = (-1 * theta) / p_hat\n",
    "    \n",
    "        var_k = np.mean((psi + (G * (D - p_hat))) ** 2)\n",
    "        \n",
    "        var_I_k.append(var_k)\n",
    "        \n",
    "    sigma = np.mean(var_I_k)\n",
    "    \n",
    "    return theta, np.sqrt(sigma / N)"
   ]
  },
  {
   "cell_type": "code",
   "execution_count": 78,
   "id": "a84288e6",
   "metadata": {},
   "outputs": [],
   "source": [
    "def plot_loss(history, title):\n",
    "    plt.figure(figsize=(7, 4))\n",
    "    plt.title('Loss Convergence for ' + title)\n",
    "    plt.plot(history.history['loss'], label='Loss')\n",
    "    plt.plot(history.history['val_loss'], label='Validation Loss')\n",
    "    plt.xlabel('Epochs')\n",
    "    plt.ylabel('Loss Function')\n",
    "    plt.legend()\n",
    "    plt.grid(True)"
   ]
  },
  {
   "cell_type": "code",
   "execution_count": 79,
   "id": "ce8222be",
   "metadata": {},
   "outputs": [],
   "source": [
    "def build_model(mspec, optimizer, lr, clf):\n",
    "\n",
    "    model = keras.Sequential() # Feedforward neural network \n",
    "    \n",
    "    model.add(layers.Dense(units=mspec[0], activation='relu', input_shape=(8,))) # First hidden layer, input layer = 8 units \n",
    "    \n",
    "    opt = tf.keras.optimizers.SGD(learning_rate=lr) # Use stochastic GD by default \n",
    "    \n",
    "    if optimizer == 'adam':\n",
    "        opt = tf.keras.optimizers.Adam(learning_rate=lr) # Use Adam if specified \n",
    "    \n",
    "    for m in mspec[1:]:\n",
    "        model.add(layers.Dense(units=m, activation='relu')) \n",
    "        \n",
    "    if clf:\n",
    "        model.add(layers.Dense(units=1, activation='sigmoid')) # Sigmoid output for classification \n",
    "        model.compile(optimizer=opt, loss=BinaryCrossentropy(), metrics=['accuracy'])\n",
    "    else: \n",
    "        model.add(layers.Dense(units=1))\n",
    "        model.compile(optimizer=opt, loss=MeanSquaredError(), metrics=['mse']) \n",
    "        \n",
    "    return model "
   ]
  },
  {
   "cell_type": "code",
   "execution_count": 80,
   "id": "8427d93e",
   "metadata": {},
   "outputs": [],
   "source": [
    "def grid_search(mspecs, optimizers, lrates, X, y, clf): \n",
    "    \n",
    "    random.seed(123)\n",
    "    np.random.seed(123)\n",
    "    tf.random.set_seed(123)\n",
    "    \n",
    "    hidden_layers, lrate_values, loss_values, opt_names = [], [], [], [] \n",
    "    \n",
    "    kf = KFold(n_splits=2, random_state=0, shuffle=True)\n",
    "    \n",
    "    if clf:\n",
    "        kf = StratifiedKFold(n_splits=5, random_state=0, shuffle=True) \n",
    "    \n",
    "    for o in optimizers:\n",
    "        for m in mspecs:\n",
    "            for lr in lrates: \n",
    "\n",
    "                model = build_model(m, o, lr, clf) \n",
    "\n",
    "                fold_loss = [] \n",
    "\n",
    "                for train_idx, test_idx in kf.split(X, y):\n",
    "                    model.fit(X[train_idx], y[train_idx], batch_size=32, epochs=20, verbose=0)\n",
    "\n",
    "                    loss, metric = model.evaluate(X[test_idx], y[test_idx], verbose=0)\n",
    "                    fold_loss.append(loss)\n",
    "\n",
    "                mean_loss = np.mean(fold_loss)\n",
    "\n",
    "                hidden_layers.append(m)\n",
    "                opt_names.append(o)\n",
    "                lrate_values.append(lr)\n",
    "                loss_values.append(mean_loss)\n",
    "        \n",
    "        \n",
    "    return pd.DataFrame({'Model'     : hidden_layers, \n",
    "                         'Optimizer' : opt_names,\n",
    "                         'Alpha'     : lrate_values, \n",
    "                         'Loss'      : loss_values})"
   ]
  },
  {
   "cell_type": "code",
   "execution_count": 81,
   "id": "7c9b9a6f",
   "metadata": {},
   "outputs": [],
   "source": [
    "optimizers = ['sgd', 'adam']\n",
    "lrates = [0.00001, 0.0001, 0.001, 0.01, 0.1, 1]\n",
    "mspecs = [[6, 4, 2], [6, 4], [6]]"
   ]
  },
  {
   "cell_type": "code",
   "execution_count": 82,
   "id": "7103684a",
   "metadata": {},
   "outputs": [],
   "source": [
    "nn_cv_clf = grid_search(mspecs, optimizers, lrates, X_scaled, D, clf=True)"
   ]
  },
  {
   "cell_type": "code",
   "execution_count": 83,
   "id": "3058774d",
   "metadata": {},
   "outputs": [],
   "source": [
    "nn_cv_reg = grid_search(mspecs, optimizers, lrates, X_mu_scaled, Y_1_mu - Y_0_mu, clf=False)"
   ]
  },
  {
   "cell_type": "code",
   "execution_count": 84,
   "id": "55053e22",
   "metadata": {},
   "outputs": [
    {
     "data": {
      "text/plain": [
       "Model          [6, 4]\n",
       "Optimizer         sgd\n",
       "Alpha             0.1\n",
       "Loss         0.249029\n",
       "Name: 10, dtype: object"
      ]
     },
     "execution_count": 84,
     "metadata": {},
     "output_type": "execute_result"
    }
   ],
   "source": [
    "nn_cv_clf.iloc[np.argmin(nn_cv_clf['Loss']), :]"
   ]
  },
  {
   "cell_type": "code",
   "execution_count": 85,
   "id": "a354d5b6",
   "metadata": {},
   "outputs": [
    {
     "data": {
      "text/plain": [
       "Model        [6, 4, 2]\n",
       "Optimizer         adam\n",
       "Alpha            0.001\n",
       "Loss          0.602556\n",
       "Name: 20, dtype: object"
      ]
     },
     "execution_count": 85,
     "metadata": {},
     "output_type": "execute_result"
    }
   ],
   "source": [
    "nn_cv_reg.iloc[np.argmin(nn_cv_reg['Loss']), :]"
   ]
  },
  {
   "cell_type": "code",
   "execution_count": 86,
   "id": "751fd797",
   "metadata": {},
   "outputs": [],
   "source": [
    "idx_clf = np.argmin(nn_cv_clf['Loss'])\n",
    "idx_reg = np.argmin(nn_cv_reg['Loss'])"
   ]
  },
  {
   "cell_type": "code",
   "execution_count": 87,
   "id": "b12d5075",
   "metadata": {},
   "outputs": [],
   "source": [
    "mspec_cv_clf = nn_cv_clf.iloc[idx_clf, 0]\n",
    "opt_cv_clf = nn_cv_clf.iloc[idx_clf, 1]\n",
    "lr_cv_clf = nn_cv_clf.iloc[idx_clf, 2]"
   ]
  },
  {
   "cell_type": "code",
   "execution_count": 88,
   "id": "7b114651",
   "metadata": {},
   "outputs": [],
   "source": [
    "mspec_cv_reg = nn_cv_reg.iloc[idx_reg, 0]\n",
    "opt_cv_reg = nn_cv_reg.iloc[idx_reg, 1]\n",
    "lr_cv_reg = nn_cv_reg.iloc[idx_reg, 2]"
   ]
  },
  {
   "cell_type": "code",
   "execution_count": 89,
   "id": "e4728f57",
   "metadata": {},
   "outputs": [],
   "source": [
    "g_ML = build_model(mspec_cv_clf, opt_cv_clf, lr_cv_clf, clf=True)"
   ]
  },
  {
   "cell_type": "code",
   "execution_count": 90,
   "id": "4b980950",
   "metadata": {},
   "outputs": [],
   "source": [
    "mu_ML = build_model(mspec_cv_reg, opt_cv_reg, lr_cv_reg, clf=False)"
   ]
  },
  {
   "cell_type": "code",
   "execution_count": 91,
   "id": "337d6ba4",
   "metadata": {},
   "outputs": [
    {
     "data": {
      "text/plain": [
       "(-0.0138658554751988, 0.04552190441042893)"
      ]
     },
     "execution_count": 91,
     "metadata": {},
     "output_type": "execute_result"
    }
   ],
   "source": [
    "DMLDiD_TF(Y_1, Y_0, D, X_scaled, g_ML, mu_ML)"
   ]
  },
  {
   "cell_type": "markdown",
   "id": "e43a3d49",
   "metadata": {},
   "source": [
    "## XGBoost"
   ]
  },
  {
   "cell_type": "code",
   "execution_count": 92,
   "id": "bf07f65c",
   "metadata": {},
   "outputs": [],
   "source": [
    "params = {'learning_rate' : [0.0001, 0.001, 0.01, 0.1, 1],\n",
    "          'n_estimators'  : [100, 200, 300, 400, 500],\n",
    "          'reg_lambda'    : [0.1, 0.5, 1],\n",
    "          'reg_alpha'     : [0.1, 0.5, 1],\n",
    "          'max_depth'     : [1, 2, 3]}"
   ]
  },
  {
   "cell_type": "code",
   "execution_count": 93,
   "id": "8c6b74cd",
   "metadata": {},
   "outputs": [],
   "source": [
    "xgb_cv_clf = GridSearchCV(estimator=xgb.XGBClassifier(objective='binary:logistic', random_state=0),\n",
    "                          param_grid=params, scoring='neg_log_loss', cv=2).fit(X, D)"
   ]
  },
  {
   "cell_type": "code",
   "execution_count": 94,
   "id": "c5f5e440",
   "metadata": {},
   "outputs": [
    {
     "data": {
      "text/plain": [
       "{'learning_rate': 0.1,\n",
       " 'max_depth': 1,\n",
       " 'n_estimators': 100,\n",
       " 'reg_alpha': 1,\n",
       " 'reg_lambda': 0.5}"
      ]
     },
     "execution_count": 94,
     "metadata": {},
     "output_type": "execute_result"
    }
   ],
   "source": [
    "xgb_cv_clf.best_params_"
   ]
  },
  {
   "cell_type": "code",
   "execution_count": 95,
   "id": "7320078c",
   "metadata": {},
   "outputs": [],
   "source": [
    "xgb_cv_reg = GridSearchCV(estimator=xgb.XGBRegressor(objective='reg:squarederror', random_state=0),\n",
    "                          param_grid=params, scoring='neg_mean_squared_error', cv=2).fit(X_mu, Y_1_mu - Y_0_mu)"
   ]
  },
  {
   "cell_type": "code",
   "execution_count": 96,
   "id": "e59762f6",
   "metadata": {},
   "outputs": [
    {
     "data": {
      "text/plain": [
       "{'learning_rate': 0.1,\n",
       " 'max_depth': 1,\n",
       " 'n_estimators': 200,\n",
       " 'reg_alpha': 1,\n",
       " 'reg_lambda': 1}"
      ]
     },
     "execution_count": 96,
     "metadata": {},
     "output_type": "execute_result"
    }
   ],
   "source": [
    "xgb_cv_reg.best_params_"
   ]
  },
  {
   "cell_type": "code",
   "execution_count": 97,
   "id": "e226de0b",
   "metadata": {},
   "outputs": [],
   "source": [
    "lr_cv_clf = xgb_cv_clf.best_params_['learning_rate'] \n",
    "ne_cv_clf = xgb_cv_clf.best_params_['n_estimators']\n",
    "md_cv_clf = xgb_cv_clf.best_params_['max_depth']\n",
    "lb_cv_clf = xgb_cv_clf.best_params_['reg_lambda']\n",
    "ap_cv_clf = xgb_cv_clf.best_params_['reg_alpha']"
   ]
  },
  {
   "cell_type": "code",
   "execution_count": 98,
   "id": "550145ed",
   "metadata": {},
   "outputs": [],
   "source": [
    "lr_cv_reg = xgb_cv_reg.best_params_['learning_rate']\n",
    "ne_cv_reg = xgb_cv_reg.best_params_['n_estimators']\n",
    "md_cv_reg = xgb_cv_reg.best_params_['max_depth']\n",
    "lb_cv_reg = xgb_cv_reg.best_params_['reg_lambda']\n",
    "ap_cv_reg = xgb_cv_reg.best_params_['reg_alpha']"
   ]
  },
  {
   "cell_type": "code",
   "execution_count": 99,
   "id": "a6e7221a",
   "metadata": {},
   "outputs": [],
   "source": [
    "g_ML = xgb.XGBClassifier(objective='binary:logistic',  \n",
    "                         random_state=0,\n",
    "                         learning_rate=lr_cv_clf,\n",
    "                         n_estimators=ne_cv_clf, \n",
    "                         max_depth=md_cv_clf,\n",
    "                         reg_lambda=lb_cv_clf, \n",
    "                         reg_alpha=ap_cv_clf)"
   ]
  },
  {
   "cell_type": "code",
   "execution_count": 100,
   "id": "e5280eb5",
   "metadata": {},
   "outputs": [],
   "source": [
    "mu_ML = xgb.XGBRegressor(objective='reg:squarederror', \n",
    "                         random_state=0,\n",
    "                         max_depth=md_cv_reg, \n",
    "                         learning_rate=lr_cv_reg,\n",
    "                         n_estimators=ne_cv_reg, \n",
    "                         reg_lambda=lb_cv_reg, \n",
    "                         reg_alpha=ap_cv_reg)"
   ]
  },
  {
   "cell_type": "code",
   "execution_count": 101,
   "id": "835f22ae",
   "metadata": {},
   "outputs": [
    {
     "data": {
      "text/plain": [
       "(-0.010229952767504907, 0.045619182479158686)"
      ]
     },
     "execution_count": 101,
     "metadata": {},
     "output_type": "execute_result"
    }
   ],
   "source": [
    "DMLDiD(Y_1, Y_0, D, X, g_ML, mu_ML)"
   ]
  },
  {
   "cell_type": "markdown",
   "id": "fba85153",
   "metadata": {},
   "source": [
    "## AdaBoost"
   ]
  },
  {
   "cell_type": "code",
   "execution_count": 102,
   "id": "246a2481",
   "metadata": {},
   "outputs": [],
   "source": [
    "params_clf = {'learning_rate'  : [0.0001, 0.001, 0.01, 0.1, 1],\n",
    "              'n_estimators'   : [100, 200, 300, 400, 500],\n",
    "              'base_estimator' : [DecisionTreeClassifier(max_depth=1), DecisionTreeClassifier(max_depth=2), \n",
    "                                  DecisionTreeClassifier(max_depth=3)]}"
   ]
  },
  {
   "cell_type": "code",
   "execution_count": 103,
   "id": "49f4f0ab",
   "metadata": {},
   "outputs": [],
   "source": [
    "ada_cv_clf = GridSearchCV(estimator=AdaBoostClassifier(random_state=0),\n",
    "                          param_grid=params_clf, scoring='neg_log_loss', cv=2).fit(X, D)"
   ]
  },
  {
   "cell_type": "code",
   "execution_count": 104,
   "id": "a59ba692",
   "metadata": {},
   "outputs": [
    {
     "data": {
      "text/plain": [
       "{'base_estimator': DecisionTreeClassifier(max_depth=3),\n",
       " 'learning_rate': 0.001,\n",
       " 'n_estimators': 100}"
      ]
     },
     "execution_count": 104,
     "metadata": {},
     "output_type": "execute_result"
    }
   ],
   "source": [
    "ada_cv_clf.best_params_"
   ]
  },
  {
   "cell_type": "code",
   "execution_count": 105,
   "id": "5d252deb",
   "metadata": {},
   "outputs": [],
   "source": [
    "params_reg = {'learning_rate'  : [0.0001, 0.001, 0.01, 0.1, 1],\n",
    "              'n_estimators'   : [100, 200, 300, 400, 500],\n",
    "              'base_estimator' : [DecisionTreeRegressor(max_depth=1), DecisionTreeRegressor(max_depth=2), \n",
    "                                  DecisionTreeRegressor(max_depth=3)]}"
   ]
  },
  {
   "cell_type": "code",
   "execution_count": 106,
   "id": "07d3141b",
   "metadata": {},
   "outputs": [],
   "source": [
    "ada_cv_reg = GridSearchCV(estimator=AdaBoostRegressor(random_state=0),\n",
    "                          param_grid=params_reg, scoring='neg_mean_squared_error', cv=2).fit(X_mu, Y_1_mu - Y_0_mu)"
   ]
  },
  {
   "cell_type": "code",
   "execution_count": 107,
   "id": "faacdc94",
   "metadata": {},
   "outputs": [
    {
     "data": {
      "text/plain": [
       "{'base_estimator': DecisionTreeRegressor(max_depth=2),\n",
       " 'learning_rate': 0.0001,\n",
       " 'n_estimators': 200}"
      ]
     },
     "execution_count": 107,
     "metadata": {},
     "output_type": "execute_result"
    }
   ],
   "source": [
    "ada_cv_reg.best_params_"
   ]
  },
  {
   "cell_type": "code",
   "execution_count": 108,
   "id": "7d59549f",
   "metadata": {},
   "outputs": [],
   "source": [
    "lr_cv_clf = ada_cv_clf.best_params_['learning_rate'] \n",
    "ne_cv_clf = ada_cv_clf.best_params_['n_estimators']\n",
    "be_cv_clf = ada_cv_clf.best_params_['base_estimator']"
   ]
  },
  {
   "cell_type": "code",
   "execution_count": 109,
   "id": "be5c3d8b",
   "metadata": {},
   "outputs": [],
   "source": [
    "lr_cv_reg = ada_cv_reg.best_params_['learning_rate']\n",
    "ne_cv_reg = ada_cv_reg.best_params_['n_estimators']\n",
    "be_cv_reg = ada_cv_reg.best_params_['base_estimator']"
   ]
  },
  {
   "cell_type": "code",
   "execution_count": 110,
   "id": "3dd8719d",
   "metadata": {},
   "outputs": [],
   "source": [
    "g_ML = AdaBoostClassifier(random_state=0,\n",
    "                          learning_rate=lr_cv_clf,\n",
    "                          n_estimators=ne_cv_clf, \n",
    "                          base_estimator=be_cv_clf)"
   ]
  },
  {
   "cell_type": "code",
   "execution_count": 111,
   "id": "e94c85c0",
   "metadata": {},
   "outputs": [],
   "source": [
    "mu_ML = AdaBoostRegressor(random_state=0,\n",
    "                          base_estimator=be_cv_reg, \n",
    "                          learning_rate=lr_cv_reg,\n",
    "                          n_estimators=ne_cv_reg)"
   ]
  },
  {
   "cell_type": "code",
   "execution_count": 112,
   "id": "c3aaa87b",
   "metadata": {},
   "outputs": [
    {
     "data": {
      "text/plain": [
       "(-0.00922013415858038, 0.04827530855017655)"
      ]
     },
     "execution_count": 112,
     "metadata": {},
     "output_type": "execute_result"
    }
   ],
   "source": [
    "DMLDiD(Y_1, Y_0, D, X, g_ML, mu_ML)"
   ]
  }
 ],
 "metadata": {
  "kernelspec": {
   "display_name": "Python 3 (ipykernel)",
   "language": "python",
   "name": "python3"
  },
  "language_info": {
   "codemirror_mode": {
    "name": "ipython",
    "version": 3
   },
   "file_extension": ".py",
   "mimetype": "text/x-python",
   "name": "python",
   "nbconvert_exporter": "python",
   "pygments_lexer": "ipython3",
   "version": "3.9.7"
  }
 },
 "nbformat": 4,
 "nbformat_minor": 5
}
